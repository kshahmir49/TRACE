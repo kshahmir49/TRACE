{
 "cells": [
  {
   "cell_type": "code",
   "execution_count": 1,
   "id": "b2fe8eb7",
   "metadata": {},
   "outputs": [],
   "source": [
    "import pandas\n",
    "import numpy\n",
    "import os"
   ]
  },
  {
   "cell_type": "code",
   "execution_count": 2,
   "id": "12eba2c7",
   "metadata": {},
   "outputs": [],
   "source": [
    "full_data = numpy.load('Merged_data_array_train.npy',allow_pickle=True)"
   ]
  },
  {
   "cell_type": "code",
   "execution_count": 3,
   "id": "ae8c5c9f",
   "metadata": {},
   "outputs": [
    {
     "name": "stderr",
     "output_type": "stream",
     "text": [
      "C:\\Users\\kshah\\AppData\\Local\\Temp\\ipykernel_29000\\258693850.py:5: VisibleDeprecationWarning: Creating an ndarray from ragged nested sequences (which is a list-or-tuple of lists-or-tuples-or ndarrays with different lengths or shapes) is deprecated. If you meant to do this, you must specify 'dtype=object' when creating the ndarray.\n",
      "  filtered_data = numpy.array(filtered_data)\n"
     ]
    }
   ],
   "source": [
    "filtered_data = []\n",
    "for i in full_data:\n",
    "    if i.shape[0] >= 20:\n",
    "        filtered_data.append(i)\n",
    "filtered_data = numpy.array(filtered_data)"
   ]
  },
  {
   "cell_type": "code",
   "execution_count": 4,
   "id": "1e87ac49",
   "metadata": {},
   "outputs": [],
   "source": [
    "train_data = filtered_data[:1200]\n",
    "valid_data = filtered_data[1200:1600]\n",
    "test_data = filtered_data[1600:]"
   ]
  },
  {
   "cell_type": "code",
   "execution_count": 5,
   "id": "29b363be",
   "metadata": {},
   "outputs": [],
   "source": [
    "with open('merge_train.txt', 'w') as f:\n",
    "    counter = 0\n",
    "    loc_counter = 0\n",
    "    for i in range(int(train_data.shape[0])):\n",
    "        counter = counter + 1\n",
    "        for loc in train_data[i]:\n",
    "            loc_counter = loc_counter + 1\n",
    "            f.write(\"{}\\t{}\\t{}\\t{}\".format(loc_counter, counter, loc[0], loc[1]))\n",
    "            f.write(\"\\n\")"
   ]
  },
  {
   "cell_type": "code",
   "execution_count": 6,
   "id": "05d9e214",
   "metadata": {},
   "outputs": [],
   "source": [
    "with open('merge_valid.txt', 'w') as f:\n",
    "    counter = 0\n",
    "    loc_counter = 0\n",
    "    for i in range(int(valid_data.shape[0])):\n",
    "        counter = counter + 1\n",
    "        for loc in valid_data[i]:\n",
    "            loc_counter = loc_counter + 1\n",
    "            f.write(\"{}\\t{}\\t{}\\t{}\".format(loc_counter, counter, loc[0], loc[1]))\n",
    "            f.write(\"\\n\")"
   ]
  },
  {
   "cell_type": "code",
   "execution_count": 7,
   "id": "b517b643",
   "metadata": {},
   "outputs": [],
   "source": [
    "with open('merge_test.txt', 'w') as f:\n",
    "    counter = 0\n",
    "    loc_counter = 0\n",
    "    for i in range(int(test_data.shape[0])):\n",
    "        counter = counter + 1\n",
    "        for loc in test_data[i]:\n",
    "            loc_counter = loc_counter + 1\n",
    "            f.write(\"{}\\t{}\\t{}\\t{}\".format(loc_counter, counter, loc[0], loc[1]))\n",
    "            f.write(\"\\n\")"
   ]
  }
 ],
 "metadata": {
  "kernelspec": {
   "display_name": "Python 3",
   "language": "python",
   "name": "python3"
  },
  "language_info": {
   "codemirror_mode": {
    "name": "ipython",
    "version": 3
   },
   "file_extension": ".py",
   "mimetype": "text/x-python",
   "name": "python",
   "nbconvert_exporter": "python",
   "pygments_lexer": "ipython3",
   "version": "3.8.16"
  }
 },
 "nbformat": 4,
 "nbformat_minor": 5
}
