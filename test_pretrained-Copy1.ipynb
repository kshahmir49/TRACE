{
 "cells": [
  {
   "cell_type": "code",
   "execution_count": 24,
   "id": "524abf44",
   "metadata": {},
   "outputs": [],
   "source": [
    "import baselineUtils\n",
    "import torch\n",
    "import individual_TF\n",
    "import scipy.io\n",
    "from transformer.batch import subsequent_mask\n",
    "import numpy as np\n",
    "from matplotlib import pyplot as plt\n",
    "import math\n",
    "import pandas as pd\n",
    "from sklearn.preprocessing import PolynomialFeatures\n",
    "from sklearn.linear_model import LinearRegression\n",
    "from sklearn.metrics import mean_squared_error, r2_score\n",
    "import operator\n",
    "plt.rcParams[\"figure.figsize\"] = (4,4)"
   ]
  },
  {
   "cell_type": "code",
   "execution_count": 5,
   "id": "0b7081f2",
   "metadata": {},
   "outputs": [],
   "source": [
    "test_data=pd.read_table(r'D:\\Transformers\\Trajectory Tracking Git Code\\Trajectory-Transformer-master\\datasets\\merged_data\\test\\mix_test_locations.txt', delimiter = '\\t')\n"
   ]
  },
  {
   "cell_type": "code",
   "execution_count": 6,
   "id": "11e83161",
   "metadata": {},
   "outputs": [],
   "source": [
    "test_data.columns = ['frame', 'person', 'x', 'y']\n"
   ]
  },
  {
   "cell_type": "code",
   "execution_count": 25,
   "id": "8f12ad6a",
   "metadata": {},
   "outputs": [],
   "source": [
    "device=torch.device(\"cpu\")"
   ]
  },
  {
   "cell_type": "code",
   "execution_count": 26,
   "id": "c0eda5bc",
   "metadata": {},
   "outputs": [],
   "source": [
    "model=individual_TF.IndividualTF(2, 3, 3, N=6,\n",
    "                   d_model=512, d_ff=2048, h=8, dropout=0.1,mean=[0,0],std=[0,0]).to(device)"
   ]
  },
  {
   "cell_type": "code",
   "execution_count": 27,
   "id": "8c4ac60e",
   "metadata": {},
   "outputs": [],
   "source": [
    "PATH = f'models/Individual/merged_data_train_50/00049.pth'"
   ]
  },
  {
   "cell_type": "code",
   "execution_count": 28,
   "id": "9551966e",
   "metadata": {},
   "outputs": [
    {
     "data": {
      "text/plain": [
       "<All keys matched successfully>"
      ]
     },
     "execution_count": 28,
     "metadata": {},
     "output_type": "execute_result"
    }
   ],
   "source": [
    "model.load_state_dict(torch.load(PATH))"
   ]
  },
  {
   "cell_type": "code",
   "execution_count": 29,
   "id": "041ca5bf",
   "metadata": {},
   "outputs": [
    {
     "name": "stdout",
     "output_type": "stream",
     "text": [
      "start loading dataset\n",
      "validation set size -> 0\n",
      "001 / 001 - loading merge_test.txt\n",
      "start loading dataset\n",
      "validation set size -> 0\n",
      "001 / 001 - loading merge_train.txt\n"
     ]
    }
   ],
   "source": [
    "test_dataset,_ =  baselineUtils.create_dataset('datasets','merged_data',0,8,12,\n",
    "                                               '\\t',train=False,eval=True,verbose='store_true')\n",
    "train_dataset,_ =  baselineUtils.create_dataset('datasets','merged_data',0,8,12,\n",
    "                                               '\\t',train=True,eval=True,verbose='store_true')"
   ]
  },
  {
   "cell_type": "code",
   "execution_count": 30,
   "id": "5923899d",
   "metadata": {},
   "outputs": [],
   "source": [
    "test_dl = torch.utils.data.DataLoader(test_dataset, 20, shuffle=False, num_workers=0)\n",
    "train_dl = torch.utils.data.DataLoader(train_dataset, 20, shuffle=False, num_workers=0)"
   ]
  },
  {
   "cell_type": "code",
   "execution_count": 36,
   "id": "7e9dcea4",
   "metadata": {},
   "outputs": [],
   "source": [
    "model.eval()\n",
    "gt = []\n",
    "pr = []\n",
    "inp_ = []\n",
    "peds = []\n",
    "frames = []\n",
    "dt = []\n",
    "norm = scipy.io.loadmat(f'models/Individual/merged_data_train_50/norm.mat')\n",
    "mean = norm['mean']\n",
    "std = norm['std']"
   ]
  },
  {
   "cell_type": "code",
   "execution_count": 37,
   "id": "a236f243",
   "metadata": {},
   "outputs": [
    {
     "name": "stdout",
     "output_type": "stream",
     "text": [
      "test epoch 020/020  batch 0000 / 0102\n",
      "test epoch 020/020  batch 0001 / 0102\n",
      "test epoch 020/020  batch 0002 / 0102\n",
      "test epoch 020/020  batch 0003 / 0102\n",
      "test epoch 020/020  batch 0004 / 0102\n",
      "test epoch 020/020  batch 0005 / 0102\n",
      "test epoch 020/020  batch 0006 / 0102\n",
      "test epoch 020/020  batch 0007 / 0102\n",
      "test epoch 020/020  batch 0008 / 0102\n",
      "test epoch 020/020  batch 0009 / 0102\n",
      "test epoch 020/020  batch 0010 / 0102\n",
      "test epoch 020/020  batch 0011 / 0102\n",
      "test epoch 020/020  batch 0012 / 0102\n",
      "test epoch 020/020  batch 0013 / 0102\n",
      "test epoch 020/020  batch 0014 / 0102\n",
      "test epoch 020/020  batch 0015 / 0102\n",
      "test epoch 020/020  batch 0016 / 0102\n",
      "test epoch 020/020  batch 0017 / 0102\n",
      "test epoch 020/020  batch 0018 / 0102\n",
      "test epoch 020/020  batch 0019 / 0102\n",
      "test epoch 020/020  batch 0020 / 0102\n",
      "test epoch 020/020  batch 0021 / 0102\n",
      "test epoch 020/020  batch 0022 / 0102\n",
      "test epoch 020/020  batch 0023 / 0102\n",
      "test epoch 020/020  batch 0024 / 0102\n",
      "test epoch 020/020  batch 0025 / 0102\n",
      "test epoch 020/020  batch 0026 / 0102\n",
      "test epoch 020/020  batch 0027 / 0102\n",
      "test epoch 020/020  batch 0028 / 0102\n",
      "test epoch 020/020  batch 0029 / 0102\n",
      "test epoch 020/020  batch 0030 / 0102\n",
      "test epoch 020/020  batch 0031 / 0102\n",
      "test epoch 020/020  batch 0032 / 0102\n",
      "test epoch 020/020  batch 0033 / 0102\n",
      "test epoch 020/020  batch 0034 / 0102\n",
      "test epoch 020/020  batch 0035 / 0102\n",
      "test epoch 020/020  batch 0036 / 0102\n",
      "test epoch 020/020  batch 0037 / 0102\n",
      "test epoch 020/020  batch 0038 / 0102\n",
      "test epoch 020/020  batch 0039 / 0102\n",
      "test epoch 020/020  batch 0040 / 0102\n",
      "test epoch 020/020  batch 0041 / 0102\n",
      "test epoch 020/020  batch 0042 / 0102\n",
      "test epoch 020/020  batch 0043 / 0102\n",
      "test epoch 020/020  batch 0044 / 0102\n",
      "test epoch 020/020  batch 0045 / 0102\n",
      "test epoch 020/020  batch 0046 / 0102\n",
      "test epoch 020/020  batch 0047 / 0102\n",
      "test epoch 020/020  batch 0048 / 0102\n",
      "test epoch 020/020  batch 0049 / 0102\n",
      "test epoch 020/020  batch 0050 / 0102\n",
      "test epoch 020/020  batch 0051 / 0102\n",
      "test epoch 020/020  batch 0052 / 0102\n",
      "test epoch 020/020  batch 0053 / 0102\n",
      "test epoch 020/020  batch 0054 / 0102\n",
      "test epoch 020/020  batch 0055 / 0102\n",
      "test epoch 020/020  batch 0056 / 0102\n",
      "test epoch 020/020  batch 0057 / 0102\n",
      "test epoch 020/020  batch 0058 / 0102\n",
      "test epoch 020/020  batch 0059 / 0102\n",
      "test epoch 020/020  batch 0060 / 0102\n",
      "test epoch 020/020  batch 0061 / 0102\n",
      "test epoch 020/020  batch 0062 / 0102\n",
      "test epoch 020/020  batch 0063 / 0102\n",
      "test epoch 020/020  batch 0064 / 0102\n",
      "test epoch 020/020  batch 0065 / 0102\n",
      "test epoch 020/020  batch 0066 / 0102\n",
      "test epoch 020/020  batch 0067 / 0102\n",
      "test epoch 020/020  batch 0068 / 0102\n",
      "test epoch 020/020  batch 0069 / 0102\n",
      "test epoch 020/020  batch 0070 / 0102\n",
      "test epoch 020/020  batch 0071 / 0102\n",
      "test epoch 020/020  batch 0072 / 0102\n",
      "test epoch 020/020  batch 0073 / 0102\n",
      "test epoch 020/020  batch 0074 / 0102\n",
      "test epoch 020/020  batch 0075 / 0102\n",
      "test epoch 020/020  batch 0076 / 0102\n",
      "test epoch 020/020  batch 0077 / 0102\n",
      "test epoch 020/020  batch 0078 / 0102\n",
      "test epoch 020/020  batch 0079 / 0102\n",
      "test epoch 020/020  batch 0080 / 0102\n",
      "test epoch 020/020  batch 0081 / 0102\n",
      "test epoch 020/020  batch 0082 / 0102\n",
      "test epoch 020/020  batch 0083 / 0102\n",
      "test epoch 020/020  batch 0084 / 0102\n",
      "test epoch 020/020  batch 0085 / 0102\n",
      "test epoch 020/020  batch 0086 / 0102\n",
      "test epoch 020/020  batch 0087 / 0102\n",
      "test epoch 020/020  batch 0088 / 0102\n",
      "test epoch 020/020  batch 0089 / 0102\n",
      "test epoch 020/020  batch 0090 / 0102\n",
      "test epoch 020/020  batch 0091 / 0102\n",
      "test epoch 020/020  batch 0092 / 0102\n",
      "test epoch 020/020  batch 0093 / 0102\n",
      "test epoch 020/020  batch 0094 / 0102\n",
      "test epoch 020/020  batch 0095 / 0102\n",
      "test epoch 020/020  batch 0096 / 0102\n",
      "test epoch 020/020  batch 0097 / 0102\n",
      "test epoch 020/020  batch 0098 / 0102\n",
      "test epoch 020/020  batch 0099 / 0102\n",
      "test epoch 020/020  batch 0100 / 0102\n",
      "test epoch 020/020  batch 0101 / 0102\n"
     ]
    }
   ],
   "source": [
    "for id_b,batch in enumerate(test_dl):\n",
    "                    inp_.append(batch['src'])\n",
    "                    gt.append(batch['trg'][:,:,0:2])\n",
    "                    frames.append(batch['frames'])\n",
    "                    peds.append(batch['peds'])\n",
    "                    dt.append(batch['dataset'])\n",
    "\n",
    "                    inp = (batch['src'][:, 1:, 2:4].to(device) - mean) / std\n",
    "                    src_att = torch.ones((inp.shape[0], 1, inp.shape[1])).to(device)\n",
    "                    start_of_seq = torch.Tensor([0, 0, 1]).unsqueeze(0).unsqueeze(1).repeat(inp.shape[0], 1, 1).to(\n",
    "                        device)\n",
    "                    dec_inp=start_of_seq\n",
    "\n",
    "                    for i in range(12):\n",
    "                        trg_att = subsequent_mask(dec_inp.shape[1]).repeat(dec_inp.shape[0], 1, 1).to(device)\n",
    "                        out = model(inp, dec_inp, src_att, trg_att)\n",
    "                        dec_inp=torch.cat((dec_inp,out[:,-1:,:]),1)\n",
    "\n",
    "\n",
    "                    preds_tr_b=(dec_inp[:,1:,0:2].detach().numpy()*std+mean).cumsum(1)+batch['src'][:,-1:,0:2].cpu().numpy()\n",
    "                    pr.append(preds_tr_b)\n",
    "                    print(\"test epoch %03i/%03i  batch %04i / %04i\" % (\n",
    "                    20, 20, id_b, len(test_dl)))"
   ]
  },
  {
   "cell_type": "code",
   "execution_count": 38,
   "id": "7e9fbf05",
   "metadata": {},
   "outputs": [],
   "source": [
    "peds = np.concatenate(peds, 0)\n",
    "frames = np.concatenate(frames, 0)\n",
    "dt = np.concatenate(dt, 0)\n",
    "gt = np.concatenate(gt, 0)\n",
    "dt_names = test_dataset.data['dataset_name']\n",
    "pr = np.concatenate(pr, 0)"
   ]
  },
  {
   "cell_type": "code",
   "execution_count": 11,
   "id": "d3fc85b8",
   "metadata": {},
   "outputs": [
    {
     "data": {
      "text/plain": [
       "array([[ 8.254233, 52.284664],\n",
       "       [ 8.581543, 53.797318],\n",
       "       [10.207323, 53.685192],\n",
       "       [11.176221, 54.78788 ],\n",
       "       [12.822845, 54.608997],\n",
       "       [15.522993, 53.728462],\n",
       "       [16.156412, 55.638405],\n",
       "       [16.956007, 56.93661 ],\n",
       "       [18.50484 , 55.676243],\n",
       "       [19.78015 , 54.945168],\n",
       "       [19.990683, 54.55509 ],\n",
       "       [21.210093, 54.906666]], dtype=float32)"
      ]
     },
     "execution_count": 11,
     "metadata": {},
     "output_type": "execute_result"
    }
   ],
   "source": [
    "gt[1]"
   ]
  },
  {
   "cell_type": "code",
   "execution_count": 12,
   "id": "d0ab7407",
   "metadata": {},
   "outputs": [
    {
     "data": {
      "text/plain": [
       "array([[ 9.442457 , 53.969723 ],\n",
       "       [ 9.703604 , 53.936096 ],\n",
       "       [ 9.9885435, 53.873787 ],\n",
       "       [10.284642 , 53.831284 ],\n",
       "       [10.589655 , 53.80496  ],\n",
       "       [10.903215 , 53.78756  ],\n",
       "       [11.223044 , 53.776028 ],\n",
       "       [11.544752 , 53.7691   ],\n",
       "       [11.864537 , 53.765385 ],\n",
       "       [12.180593 , 53.762993 ],\n",
       "       [12.4939995, 53.76046  ],\n",
       "       [12.807815 , 53.758743 ]], dtype=float32)"
      ]
     },
     "execution_count": 12,
     "metadata": {},
     "output_type": "execute_result"
    }
   ],
   "source": [
    "pr[1]"
   ]
  },
  {
   "cell_type": "code",
   "execution_count": 13,
   "id": "9b22a920",
   "metadata": {},
   "outputs": [],
   "source": [
    "locations = np.empty((10,10,2))\n",
    "for i in range(10):\n",
    "    for j in range(10):\n",
    "        locations[i][j][0] = i*100\n",
    "        locations[i][j][1] = j*100"
   ]
  },
  {
   "cell_type": "code",
   "execution_count": 14,
   "id": "30ffd1e5",
   "metadata": {},
   "outputs": [
    {
     "data": {
      "text/plain": [
       "<matplotlib.collections.PathCollection at 0x1ad3dcdcd60>"
      ]
     },
     "execution_count": 14,
     "metadata": {},
     "output_type": "execute_result"
    },
    {
     "data": {
      "image/png": "[encoded data removed]",
      "text/plain": [
       "<Figure size 288x288 with 1 Axes>"
      ]
     },
     "metadata": {
      "needs_background": "light"
     },
     "output_type": "display_data"
    }
   ],
   "source": [
    "idx = 0\n",
    "plt.plot(locations[:,:,0], locations[:,:,1], ls=\"None\", marker=\".\",color='black')\n",
    "plt.scatter(pr[idx][:,0], pr[idx][:,1], color='blue')\n",
    "plt.scatter(gt[idx][:,0], gt[idx][:,1], color='red')\n",
    "# plt.savefig(\"{}.png\".format(idx))"
   ]
  },
  {
   "cell_type": "code",
   "execution_count": 15,
   "id": "4b3a8131",
   "metadata": {},
   "outputs": [
    {
     "data": {
      "text/plain": [
       "array([[26.320381, 46.624954],\n",
       "       [26.52286 , 46.583645],\n",
       "       [26.725775, 46.52052 ],\n",
       "       [26.936674, 46.49318 ],\n",
       "       [27.15713 , 46.49065 ],\n",
       "       [27.386982, 46.49909 ],\n",
       "       [27.623283, 46.512   ],\n",
       "       [27.861362, 46.528625],\n",
       "       [28.097502, 46.549263],\n",
       "       [28.330502, 46.573715],\n",
       "       [28.562218, 46.603245],\n",
       "       [28.796465, 46.64274 ]], dtype=float32)"
      ]
     },
     "execution_count": 15,
     "metadata": {},
     "output_type": "execute_result"
    }
   ],
   "source": [
    "pr[21]"
   ]
  },
  {
   "cell_type": "code",
   "execution_count": 16,
   "id": "56ec12a4",
   "metadata": {},
   "outputs": [
    {
     "data": {
      "text/plain": [
       "array([[26.522408, 45.98692 ],\n",
       "       [26.989923, 45.70591 ],\n",
       "       [27.584888, 45.340694],\n",
       "       [27.92454 , 45.088398],\n",
       "       [28.159967, 45.169876],\n",
       "       [28.331358, 45.251835],\n",
       "       [28.714327, 45.08246 ],\n",
       "       [29.288988, 44.856144],\n",
       "       [29.692677, 44.603363],\n",
       "       [29.947989, 44.490444],\n",
       "       [30.09887 , 44.683556],\n",
       "       [30.48121 , 44.43094 ]], dtype=float32)"
      ]
     },
     "execution_count": 16,
     "metadata": {},
     "output_type": "execute_result"
    }
   ],
   "source": [
    "gt[21]"
   ]
  },
  {
   "cell_type": "code",
   "execution_count": 17,
   "id": "0effba53",
   "metadata": {},
   "outputs": [
    {
     "data": {
      "text/plain": [
       "array([[6723, 6724, 6725, ..., 6740, 6741, 6742],\n",
       "       [6724, 6725, 6726, ..., 6741, 6742, 6743],\n",
       "       [6725, 6726, 6727, ..., 6742, 6743, 6744],\n",
       "       ...,\n",
       "       [9176, 9177, 9178, ..., 9193, 9194, 9195],\n",
       "       [9177, 9178, 9179, ..., 9194, 9195, 9196],\n",
       "       [9225, 9226, 9227, ..., 9242, 9243, 9244]], dtype=int64)"
      ]
     },
     "execution_count": 17,
     "metadata": {},
     "output_type": "execute_result"
    }
   ],
   "source": [
    "frames"
   ]
  },
  {
   "cell_type": "code",
   "execution_count": 18,
   "id": "b85930c5",
   "metadata": {},
   "outputs": [
    {
     "data": {
      "text/plain": [
       "torch.Size([20, 8, 4])"
      ]
     },
     "execution_count": 18,
     "metadata": {},
     "output_type": "execute_result"
    }
   ],
   "source": [
    "inp_[0].shape"
   ]
  },
  {
   "cell_type": "code",
   "execution_count": 19,
   "id": "03928acd",
   "metadata": {},
   "outputs": [
    {
     "data": {
      "text/plain": [
       "array([[[  7.591576 ,  57.839523 ]],\n",
       "\n",
       "       [[ 11.384314 ,  51.234394 ]],\n",
       "\n",
       "       [[  7.7719364,  59.114635 ]],\n",
       "\n",
       "       ...,\n",
       "\n",
       "       [[197.6974   ,   4.9196606]],\n",
       "\n",
       "       [[199.35265  ,   9.107674 ]],\n",
       "\n",
       "       [[550.       , 300.       ]]], dtype=float32)"
      ]
     },
     "execution_count": 19,
     "metadata": {},
     "output_type": "execute_result"
    }
   ],
   "source": [
    "test_dataset.data['seq_start']"
   ]
  },
  {
   "cell_type": "code",
   "execution_count": 20,
   "id": "087661d2",
   "metadata": {},
   "outputs": [
    {
     "data": {
      "text/plain": [
       "array([380., 380., 380., 380., 380., 380., 380., 380., 380., 380., 380.,\n",
       "       380., 380., 380., 380., 380., 380., 380., 380., 380., 380., 380.,\n",
       "       380., 380., 380., 380., 380., 380., 380., 380., 380., 380., 380.,\n",
       "       380., 380., 381., 381., 381., 381., 381., 381., 381., 381., 381.,\n",
       "       381., 381., 381., 381., 381., 381., 381., 381., 381., 381., 381.,\n",
       "       381., 381., 381., 381., 381., 381., 381., 381., 381., 381., 381.,\n",
       "       381., 381., 381., 381., 381., 381., 381., 381., 381., 381., 381.,\n",
       "       381., 381., 381., 381., 381., 381., 381., 381., 381., 381., 381.,\n",
       "       381., 381., 381., 381., 381., 381., 381., 381., 381., 381., 381.,\n",
       "       381., 381., 381., 381., 381., 381., 381., 381., 381., 381., 381.,\n",
       "       381., 381., 381., 382., 382., 382., 382., 385., 385., 385., 385.,\n",
       "       385., 385., 385., 385., 385., 385., 385., 385., 388., 388., 388.,\n",
       "       388., 388., 388., 388., 388., 388., 388., 388., 388., 388., 388.,\n",
       "       388., 388., 388., 388., 388., 388., 388., 388., 393., 393., 393.,\n",
       "       393., 394., 394., 394., 394., 394., 394., 394., 394., 394., 394.,\n",
       "       396., 396., 397., 397., 399., 399., 399., 399., 399., 399., 399.,\n",
       "       399., 399., 399., 399., 399., 399., 399., 399., 405., 405., 405.,\n",
       "       405., 405., 405., 405., 405., 405., 405., 405., 405., 405., 405.,\n",
       "       405., 405., 406., 406., 406., 406., 406., 406., 406., 406., 406.,\n",
       "       406., 406., 406., 406., 406., 411., 411., 414., 414., 414., 414.,\n",
       "       414., 414., 414., 414., 414., 414., 414., 414., 414., 414., 414.,\n",
       "       414., 414., 414., 414., 414., 414., 414., 414., 414., 414., 414.,\n",
       "       414., 414., 414., 414., 414., 414., 414., 414., 414., 414., 414.,\n",
       "       414., 414., 414., 414., 414., 414., 414., 414., 414., 414., 414.,\n",
       "       414., 414., 414., 415., 415., 415., 415., 415., 415., 415., 415.,\n",
       "       415., 415., 415., 417., 417., 417., 417., 417., 417., 417., 418.,\n",
       "       418., 418., 418., 418., 418., 418., 418., 418., 418., 418., 418.,\n",
       "       418., 418., 418., 418., 418., 418., 418., 418., 418., 418., 418.,\n",
       "       418., 426., 426., 426., 426., 426., 426., 426., 426., 426., 426.,\n",
       "       426., 426., 426., 426., 426., 426., 427., 427., 427., 427., 427.,\n",
       "       427., 427., 427., 427., 427., 427., 427., 427., 427., 427., 428.,\n",
       "       428., 428., 428., 428., 428., 428., 428., 428., 428., 428., 428.,\n",
       "       428., 428., 428., 428., 428., 428., 428., 428., 428., 428., 428.,\n",
       "       428., 428., 428., 428., 428., 428., 428., 435., 435., 435., 435.,\n",
       "       435., 435., 435., 435., 435., 441., 441., 441., 441., 441., 441.,\n",
       "       441., 441., 441., 441., 441., 441., 441., 441., 441., 441., 441.,\n",
       "       442., 442., 442., 442., 442., 442., 442., 442., 442., 442., 442.,\n",
       "       442., 442., 442., 442., 442., 442., 442., 442., 442., 442., 442.,\n",
       "       442., 442., 442., 442., 442., 442., 444., 444., 444., 444., 444.,\n",
       "       444., 444., 444., 444., 444., 444., 444., 444., 444., 444., 444.,\n",
       "       444., 444., 444., 444., 444., 444., 444., 444., 444., 444., 446.,\n",
       "       448., 448., 448., 448., 448., 448., 448., 448., 448., 448., 448.,\n",
       "       448., 448., 448., 448., 448., 448., 448., 448., 448., 448., 448.,\n",
       "       448., 448., 449., 449., 449., 449., 449., 449., 455., 455., 455.,\n",
       "       455., 455., 455., 455., 455., 455., 455., 460., 460., 460., 460.,\n",
       "       460., 460., 460., 460., 460., 460., 460., 460., 460., 460., 461.,\n",
       "       461., 461., 461., 461., 461., 461., 461., 461., 463., 463., 463.,\n",
       "       465., 465., 465., 465., 465., 465., 465., 465., 465., 465., 465.,\n",
       "       465., 465., 465., 465., 465., 465., 465., 465., 466., 467., 467.,\n",
       "       467., 467., 467., 467., 467., 467., 468., 468., 468., 468., 468.,\n",
       "       468., 468., 468., 468., 468., 468., 468., 468., 468., 468., 468.,\n",
       "       476., 476., 476., 476., 477., 477., 477., 477., 477., 479., 479.,\n",
       "       479., 479., 479., 479., 479., 479., 479., 479., 479., 479., 479.,\n",
       "       479., 479., 479., 479., 479., 482., 482., 482., 482., 482., 482.,\n",
       "       482., 482., 482., 482., 482., 482., 482., 482., 482., 482., 482.,\n",
       "       482., 482., 482., 482., 482., 482., 482., 482., 482., 482., 482.,\n",
       "       483., 483., 483., 483., 483., 483., 483., 483., 483., 484., 484.,\n",
       "       484., 484., 484., 484., 484., 484., 484., 484., 484., 484., 484.,\n",
       "       484., 484., 484., 484., 484., 484., 484., 484., 484., 484., 484.,\n",
       "       484., 484., 484., 484., 484., 484., 484., 484., 484., 484., 484.,\n",
       "       484., 484., 484., 484., 484., 490., 490., 490., 490., 490., 490.,\n",
       "       490., 490., 490., 490., 490., 490., 490., 490., 490., 490., 490.,\n",
       "       490., 490., 491., 491., 491., 491., 491., 491., 491., 491., 491.,\n",
       "       491., 491., 491., 491., 491., 491., 491., 491., 491., 491., 491.,\n",
       "       491., 491., 491., 491., 491., 494., 494., 494., 494., 495., 495.,\n",
       "       495., 495., 495., 495., 495., 495., 495., 495., 495., 495., 495.,\n",
       "       495., 495., 495., 495., 495., 495., 495., 495., 495., 495., 495.,\n",
       "       495., 495., 495., 495., 495., 495., 496., 496., 496., 496., 496.,\n",
       "       496., 496., 497., 497., 501.], dtype=float32)"
      ]
     },
     "execution_count": 20,
     "metadata": {},
     "output_type": "execute_result"
    }
   ],
   "source": [
    "peds"
   ]
  },
  {
   "cell_type": "code",
   "execution_count": 39,
   "id": "9e8cd923",
   "metadata": {},
   "outputs": [
    {
     "name": "stdout",
     "output_type": "stream",
     "text": [
      "The mean FDE is  317.91030286279084\n"
     ]
    }
   ],
   "source": [
    "ssum = 0\n",
    "for i in range(pr.shape[0]):\n",
    "    ssum += math.dist(pr[i][-1], gt[i][-1])\n",
    "mean_fde = ssum / (i+1)\n",
    "print(\"The mean FDE is \",mean_fde)"
   ]
  },
  {
   "cell_type": "code",
   "execution_count": 40,
   "id": "697095ba",
   "metadata": {},
   "outputs": [
    {
     "name": "stdout",
     "output_type": "stream",
     "text": [
      "The mean ADE is  165.51942723239725\n"
     ]
    }
   ],
   "source": [
    "ssum = 0\n",
    "for i in range(pr.shape[0]):\n",
    "    local_sum = 0\n",
    "    for j in range(pr[i].shape[0]):\n",
    "        local_sum += math.dist(pr[i][j], gt[i][j])\n",
    "    ssum += local_sum / (j+1)\n",
    "mean_ade = ssum / (i+1)\n",
    "print(\"The mean ADE is \",mean_ade)"
   ]
  },
  {
   "cell_type": "code",
   "execution_count": 23,
   "id": "53fa9036",
   "metadata": {},
   "outputs": [
    {
     "name": "stderr",
     "output_type": "stream",
     "text": [
      "No artists with labels found to put in legend.  Note that artists whose label start with an underscore are ignored when legend() is called with no argument.\n"
     ]
    },
    {
     "data": {
      "image/png": "[encoded data removed]",
      "text/plain": [
       "<Figure size 288x288 with 1 Axes>"
      ]
     },
     "metadata": {
      "needs_background": "light"
     },
     "output_type": "display_data"
    }
   ],
   "source": [
    "plt.plot(locations[:,:,0], locations[:,:,1], ls=\"None\", marker=\".\",color='black')\n",
    "for i in range(80,200):\n",
    "    plt.scatter(pr[i][:,0], pr[i][:,1], color='blue')\n",
    "    plt.scatter(gt[i][:,0], gt[i][:,1], color='red')\n",
    "plt.legend()\n",
    "plt.show() "
   ]
  },
  {
   "cell_type": "code",
   "execution_count": 31,
   "id": "da62b00b",
   "metadata": {},
   "outputs": [],
   "source": [
    "model.eval()\n",
    "gt = []\n",
    "pr = []\n",
    "inp_ = []\n",
    "peds = []\n",
    "frames = []\n",
    "dt = []\n",
    "norm = scipy.io.loadmat(f'models/Individual/merged_data_train_50/norm.mat')\n",
    "mean = norm['mean']\n",
    "std = norm['std']"
   ]
  },
  {
   "cell_type": "code",
   "execution_count": 32,
   "id": "1e7dceeb",
   "metadata": {},
   "outputs": [
    {
     "name": "stdout",
     "output_type": "stream",
     "text": [
      "test epoch 020/020  batch 0000 / 0102\n",
      "test epoch 020/020  batch 0001 / 0102\n",
      "test epoch 020/020  batch 0002 / 0102\n",
      "test epoch 020/020  batch 0003 / 0102\n",
      "test epoch 020/020  batch 0004 / 0102\n",
      "test epoch 020/020  batch 0005 / 0102\n",
      "test epoch 020/020  batch 0006 / 0102\n",
      "test epoch 020/020  batch 0007 / 0102\n",
      "test epoch 020/020  batch 0008 / 0102\n",
      "test epoch 020/020  batch 0009 / 0102\n",
      "test epoch 020/020  batch 0010 / 0102\n",
      "test epoch 020/020  batch 0011 / 0102\n",
      "test epoch 020/020  batch 0012 / 0102\n",
      "test epoch 020/020  batch 0013 / 0102\n",
      "test epoch 020/020  batch 0014 / 0102\n",
      "test epoch 020/020  batch 0015 / 0102\n",
      "test epoch 020/020  batch 0016 / 0102\n",
      "test epoch 020/020  batch 0017 / 0102\n",
      "test epoch 020/020  batch 0018 / 0102\n",
      "test epoch 020/020  batch 0019 / 0102\n",
      "test epoch 020/020  batch 0020 / 0102\n",
      "test epoch 020/020  batch 0021 / 0102\n",
      "test epoch 020/020  batch 0022 / 0102\n",
      "test epoch 020/020  batch 0023 / 0102\n",
      "test epoch 020/020  batch 0024 / 0102\n",
      "test epoch 020/020  batch 0025 / 0102\n",
      "test epoch 020/020  batch 0026 / 0102\n",
      "test epoch 020/020  batch 0027 / 0102\n",
      "test epoch 020/020  batch 0028 / 0102\n",
      "test epoch 020/020  batch 0029 / 0102\n",
      "test epoch 020/020  batch 0030 / 0102\n",
      "test epoch 020/020  batch 0031 / 0102\n",
      "test epoch 020/020  batch 0032 / 0102\n",
      "test epoch 020/020  batch 0033 / 0102\n",
      "test epoch 020/020  batch 0034 / 0102\n",
      "test epoch 020/020  batch 0035 / 0102\n",
      "test epoch 020/020  batch 0036 / 0102\n",
      "test epoch 020/020  batch 0037 / 0102\n",
      "test epoch 020/020  batch 0038 / 0102\n",
      "test epoch 020/020  batch 0039 / 0102\n",
      "test epoch 020/020  batch 0040 / 0102\n",
      "test epoch 020/020  batch 0041 / 0102\n",
      "test epoch 020/020  batch 0042 / 0102\n",
      "test epoch 020/020  batch 0043 / 0102\n",
      "test epoch 020/020  batch 0044 / 0102\n",
      "test epoch 020/020  batch 0045 / 0102\n",
      "test epoch 020/020  batch 0046 / 0102\n",
      "test epoch 020/020  batch 0047 / 0102\n",
      "test epoch 020/020  batch 0048 / 0102\n",
      "test epoch 020/020  batch 0049 / 0102\n",
      "test epoch 020/020  batch 0050 / 0102\n",
      "test epoch 020/020  batch 0051 / 0102\n",
      "test epoch 020/020  batch 0052 / 0102\n",
      "test epoch 020/020  batch 0053 / 0102\n",
      "test epoch 020/020  batch 0054 / 0102\n",
      "test epoch 020/020  batch 0055 / 0102\n",
      "test epoch 020/020  batch 0056 / 0102\n",
      "test epoch 020/020  batch 0057 / 0102\n",
      "test epoch 020/020  batch 0058 / 0102\n",
      "test epoch 020/020  batch 0059 / 0102\n",
      "test epoch 020/020  batch 0060 / 0102\n",
      "test epoch 020/020  batch 0061 / 0102\n",
      "test epoch 020/020  batch 0062 / 0102\n",
      "test epoch 020/020  batch 0063 / 0102\n",
      "test epoch 020/020  batch 0064 / 0102\n",
      "test epoch 020/020  batch 0065 / 0102\n",
      "test epoch 020/020  batch 0066 / 0102\n",
      "test epoch 020/020  batch 0067 / 0102\n",
      "test epoch 020/020  batch 0068 / 0102\n",
      "test epoch 020/020  batch 0069 / 0102\n",
      "test epoch 020/020  batch 0070 / 0102\n",
      "test epoch 020/020  batch 0071 / 0102\n",
      "test epoch 020/020  batch 0072 / 0102\n",
      "test epoch 020/020  batch 0073 / 0102\n",
      "test epoch 020/020  batch 0074 / 0102\n",
      "test epoch 020/020  batch 0075 / 0102\n",
      "test epoch 020/020  batch 0076 / 0102\n",
      "test epoch 020/020  batch 0077 / 0102\n",
      "test epoch 020/020  batch 0078 / 0102\n",
      "test epoch 020/020  batch 0079 / 0102\n",
      "test epoch 020/020  batch 0080 / 0102\n",
      "test epoch 020/020  batch 0081 / 0102\n",
      "test epoch 020/020  batch 0082 / 0102\n",
      "test epoch 020/020  batch 0083 / 0102\n",
      "test epoch 020/020  batch 0084 / 0102\n",
      "test epoch 020/020  batch 0085 / 0102\n",
      "test epoch 020/020  batch 0086 / 0102\n",
      "test epoch 020/020  batch 0087 / 0102\n",
      "test epoch 020/020  batch 0088 / 0102\n",
      "test epoch 020/020  batch 0089 / 0102\n",
      "test epoch 020/020  batch 0090 / 0102\n",
      "test epoch 020/020  batch 0091 / 0102\n",
      "test epoch 020/020  batch 0092 / 0102\n",
      "test epoch 020/020  batch 0093 / 0102\n",
      "test epoch 020/020  batch 0094 / 0102\n",
      "test epoch 020/020  batch 0095 / 0102\n",
      "test epoch 020/020  batch 0096 / 0102\n",
      "test epoch 020/020  batch 0097 / 0102\n",
      "test epoch 020/020  batch 0098 / 0102\n",
      "test epoch 020/020  batch 0099 / 0102\n",
      "test epoch 020/020  batch 0100 / 0102\n",
      "test epoch 020/020  batch 0101 / 0102\n",
      "test epoch 020/020  batch 0102 / 0102\n",
      "test epoch 020/020  batch 0103 / 0102\n",
      "test epoch 020/020  batch 0104 / 0102\n",
      "test epoch 020/020  batch 0105 / 0102\n",
      "test epoch 020/020  batch 0106 / 0102\n",
      "test epoch 020/020  batch 0107 / 0102\n",
      "test epoch 020/020  batch 0108 / 0102\n",
      "test epoch 020/020  batch 0109 / 0102\n",
      "test epoch 020/020  batch 0110 / 0102\n",
      "test epoch 020/020  batch 0111 / 0102\n",
      "test epoch 020/020  batch 0112 / 0102\n",
      "test epoch 020/020  batch 0113 / 0102\n",
      "test epoch 020/020  batch 0114 / 0102\n",
      "test epoch 020/020  batch 0115 / 0102\n",
      "test epoch 020/020  batch 0116 / 0102\n",
      "test epoch 020/020  batch 0117 / 0102\n",
      "test epoch 020/020  batch 0118 / 0102\n",
      "test epoch 020/020  batch 0119 / 0102\n",
      "test epoch 020/020  batch 0120 / 0102\n",
      "test epoch 020/020  batch 0121 / 0102\n",
      "test epoch 020/020  batch 0122 / 0102\n",
      "test epoch 020/020  batch 0123 / 0102\n",
      "test epoch 020/020  batch 0124 / 0102\n",
      "test epoch 020/020  batch 0125 / 0102\n",
      "test epoch 020/020  batch 0126 / 0102\n",
      "test epoch 020/020  batch 0127 / 0102\n",
      "test epoch 020/020  batch 0128 / 0102\n",
      "test epoch 020/020  batch 0129 / 0102\n",
      "test epoch 020/020  batch 0130 / 0102\n",
      "test epoch 020/020  batch 0131 / 0102\n",
      "test epoch 020/020  batch 0132 / 0102\n",
      "test epoch 020/020  batch 0133 / 0102\n",
      "test epoch 020/020  batch 0134 / 0102\n",
      "test epoch 020/020  batch 0135 / 0102\n",
      "test epoch 020/020  batch 0136 / 0102\n",
      "test epoch 020/020  batch 0137 / 0102\n",
      "test epoch 020/020  batch 0138 / 0102\n",
      "test epoch 020/020  batch 0139 / 0102\n",
      "test epoch 020/020  batch 0140 / 0102\n",
      "test epoch 020/020  batch 0141 / 0102\n",
      "test epoch 020/020  batch 0142 / 0102\n",
      "test epoch 020/020  batch 0143 / 0102\n",
      "test epoch 020/020  batch 0144 / 0102\n",
      "test epoch 020/020  batch 0145 / 0102\n",
      "test epoch 020/020  batch 0146 / 0102\n",
      "test epoch 020/020  batch 0147 / 0102\n",
      "test epoch 020/020  batch 0148 / 0102\n",
      "test epoch 020/020  batch 0149 / 0102\n",
      "test epoch 020/020  batch 0150 / 0102\n",
      "test epoch 020/020  batch 0151 / 0102\n",
      "test epoch 020/020  batch 0152 / 0102\n",
      "test epoch 020/020  batch 0153 / 0102\n",
      "test epoch 020/020  batch 0154 / 0102\n",
      "test epoch 020/020  batch 0155 / 0102\n",
      "test epoch 020/020  batch 0156 / 0102\n",
      "test epoch 020/020  batch 0157 / 0102\n",
      "test epoch 020/020  batch 0158 / 0102\n",
      "test epoch 020/020  batch 0159 / 0102\n",
      "test epoch 020/020  batch 0160 / 0102\n",
      "test epoch 020/020  batch 0161 / 0102\n",
      "test epoch 020/020  batch 0162 / 0102\n",
      "test epoch 020/020  batch 0163 / 0102\n",
      "test epoch 020/020  batch 0164 / 0102\n",
      "test epoch 020/020  batch 0165 / 0102\n",
      "test epoch 020/020  batch 0166 / 0102\n",
      "test epoch 020/020  batch 0167 / 0102\n",
      "test epoch 020/020  batch 0168 / 0102\n",
      "test epoch 020/020  batch 0169 / 0102\n",
      "test epoch 020/020  batch 0170 / 0102\n",
      "test epoch 020/020  batch 0171 / 0102\n",
      "test epoch 020/020  batch 0172 / 0102\n",
      "test epoch 020/020  batch 0173 / 0102\n",
      "test epoch 020/020  batch 0174 / 0102\n",
      "test epoch 020/020  batch 0175 / 0102\n",
      "test epoch 020/020  batch 0176 / 0102\n",
      "test epoch 020/020  batch 0177 / 0102\n",
      "test epoch 020/020  batch 0178 / 0102\n",
      "test epoch 020/020  batch 0179 / 0102\n",
      "test epoch 020/020  batch 0180 / 0102\n",
      "test epoch 020/020  batch 0181 / 0102\n",
      "test epoch 020/020  batch 0182 / 0102\n",
      "test epoch 020/020  batch 0183 / 0102\n",
      "test epoch 020/020  batch 0184 / 0102\n",
      "test epoch 020/020  batch 0185 / 0102\n",
      "test epoch 020/020  batch 0186 / 0102\n",
      "test epoch 020/020  batch 0187 / 0102\n",
      "test epoch 020/020  batch 0188 / 0102\n",
      "test epoch 020/020  batch 0189 / 0102\n",
      "test epoch 020/020  batch 0190 / 0102\n",
      "test epoch 020/020  batch 0191 / 0102\n",
      "test epoch 020/020  batch 0192 / 0102\n",
      "test epoch 020/020  batch 0193 / 0102\n",
      "test epoch 020/020  batch 0194 / 0102\n",
      "test epoch 020/020  batch 0195 / 0102\n",
      "test epoch 020/020  batch 0196 / 0102\n",
      "test epoch 020/020  batch 0197 / 0102\n",
      "test epoch 020/020  batch 0198 / 0102\n",
      "test epoch 020/020  batch 0199 / 0102\n",
      "test epoch 020/020  batch 0200 / 0102\n",
      "test epoch 020/020  batch 0201 / 0102\n",
      "test epoch 020/020  batch 0202 / 0102\n",
      "test epoch 020/020  batch 0203 / 0102\n",
      "test epoch 020/020  batch 0204 / 0102\n",
      "test epoch 020/020  batch 0205 / 0102\n",
      "test epoch 020/020  batch 0206 / 0102\n",
      "test epoch 020/020  batch 0207 / 0102\n",
      "test epoch 020/020  batch 0208 / 0102\n",
      "test epoch 020/020  batch 0209 / 0102\n",
      "test epoch 020/020  batch 0210 / 0102\n",
      "test epoch 020/020  batch 0211 / 0102\n",
      "test epoch 020/020  batch 0212 / 0102\n",
      "test epoch 020/020  batch 0213 / 0102\n",
      "test epoch 020/020  batch 0214 / 0102\n",
      "test epoch 020/020  batch 0215 / 0102\n"
     ]
    },
    {
     "name": "stdout",
     "output_type": "stream",
     "text": [
      "test epoch 020/020  batch 0216 / 0102\n",
      "test epoch 020/020  batch 0217 / 0102\n",
      "test epoch 020/020  batch 0218 / 0102\n",
      "test epoch 020/020  batch 0219 / 0102\n",
      "test epoch 020/020  batch 0220 / 0102\n",
      "test epoch 020/020  batch 0221 / 0102\n",
      "test epoch 020/020  batch 0222 / 0102\n",
      "test epoch 020/020  batch 0223 / 0102\n",
      "test epoch 020/020  batch 0224 / 0102\n",
      "test epoch 020/020  batch 0225 / 0102\n",
      "test epoch 020/020  batch 0226 / 0102\n",
      "test epoch 020/020  batch 0227 / 0102\n",
      "test epoch 020/020  batch 0228 / 0102\n",
      "test epoch 020/020  batch 0229 / 0102\n",
      "test epoch 020/020  batch 0230 / 0102\n",
      "test epoch 020/020  batch 0231 / 0102\n",
      "test epoch 020/020  batch 0232 / 0102\n",
      "test epoch 020/020  batch 0233 / 0102\n",
      "test epoch 020/020  batch 0234 / 0102\n",
      "test epoch 020/020  batch 0235 / 0102\n",
      "test epoch 020/020  batch 0236 / 0102\n",
      "test epoch 020/020  batch 0237 / 0102\n",
      "test epoch 020/020  batch 0238 / 0102\n",
      "test epoch 020/020  batch 0239 / 0102\n",
      "test epoch 020/020  batch 0240 / 0102\n",
      "test epoch 020/020  batch 0241 / 0102\n",
      "test epoch 020/020  batch 0242 / 0102\n",
      "test epoch 020/020  batch 0243 / 0102\n",
      "test epoch 020/020  batch 0244 / 0102\n",
      "test epoch 020/020  batch 0245 / 0102\n",
      "test epoch 020/020  batch 0246 / 0102\n",
      "test epoch 020/020  batch 0247 / 0102\n",
      "test epoch 020/020  batch 0248 / 0102\n",
      "test epoch 020/020  batch 0249 / 0102\n",
      "test epoch 020/020  batch 0250 / 0102\n",
      "test epoch 020/020  batch 0251 / 0102\n",
      "test epoch 020/020  batch 0252 / 0102\n",
      "test epoch 020/020  batch 0253 / 0102\n",
      "test epoch 020/020  batch 0254 / 0102\n",
      "test epoch 020/020  batch 0255 / 0102\n",
      "test epoch 020/020  batch 0256 / 0102\n",
      "test epoch 020/020  batch 0257 / 0102\n",
      "test epoch 020/020  batch 0258 / 0102\n",
      "test epoch 020/020  batch 0259 / 0102\n",
      "test epoch 020/020  batch 0260 / 0102\n",
      "test epoch 020/020  batch 0261 / 0102\n",
      "test epoch 020/020  batch 0262 / 0102\n",
      "test epoch 020/020  batch 0263 / 0102\n",
      "test epoch 020/020  batch 0264 / 0102\n",
      "test epoch 020/020  batch 0265 / 0102\n",
      "test epoch 020/020  batch 0266 / 0102\n",
      "test epoch 020/020  batch 0267 / 0102\n",
      "test epoch 020/020  batch 0268 / 0102\n",
      "test epoch 020/020  batch 0269 / 0102\n",
      "test epoch 020/020  batch 0270 / 0102\n",
      "test epoch 020/020  batch 0271 / 0102\n",
      "test epoch 020/020  batch 0272 / 0102\n",
      "test epoch 020/020  batch 0273 / 0102\n",
      "test epoch 020/020  batch 0274 / 0102\n",
      "test epoch 020/020  batch 0275 / 0102\n",
      "test epoch 020/020  batch 0276 / 0102\n",
      "test epoch 020/020  batch 0277 / 0102\n",
      "test epoch 020/020  batch 0278 / 0102\n",
      "test epoch 020/020  batch 0279 / 0102\n",
      "test epoch 020/020  batch 0280 / 0102\n",
      "test epoch 020/020  batch 0281 / 0102\n",
      "test epoch 020/020  batch 0282 / 0102\n",
      "test epoch 020/020  batch 0283 / 0102\n",
      "test epoch 020/020  batch 0284 / 0102\n",
      "test epoch 020/020  batch 0285 / 0102\n",
      "test epoch 020/020  batch 0286 / 0102\n",
      "test epoch 020/020  batch 0287 / 0102\n",
      "test epoch 020/020  batch 0288 / 0102\n",
      "test epoch 020/020  batch 0289 / 0102\n",
      "test epoch 020/020  batch 0290 / 0102\n",
      "test epoch 020/020  batch 0291 / 0102\n",
      "test epoch 020/020  batch 0292 / 0102\n",
      "test epoch 020/020  batch 0293 / 0102\n",
      "test epoch 020/020  batch 0294 / 0102\n",
      "test epoch 020/020  batch 0295 / 0102\n",
      "test epoch 020/020  batch 0296 / 0102\n",
      "test epoch 020/020  batch 0297 / 0102\n",
      "test epoch 020/020  batch 0298 / 0102\n",
      "test epoch 020/020  batch 0299 / 0102\n",
      "test epoch 020/020  batch 0300 / 0102\n",
      "test epoch 020/020  batch 0301 / 0102\n",
      "test epoch 020/020  batch 0302 / 0102\n",
      "test epoch 020/020  batch 0303 / 0102\n",
      "test epoch 020/020  batch 0304 / 0102\n",
      "test epoch 020/020  batch 0305 / 0102\n",
      "test epoch 020/020  batch 0306 / 0102\n",
      "test epoch 020/020  batch 0307 / 0102\n",
      "test epoch 020/020  batch 0308 / 0102\n",
      "test epoch 020/020  batch 0309 / 0102\n",
      "test epoch 020/020  batch 0310 / 0102\n",
      "test epoch 020/020  batch 0311 / 0102\n",
      "test epoch 020/020  batch 0312 / 0102\n",
      "test epoch 020/020  batch 0313 / 0102\n",
      "test epoch 020/020  batch 0314 / 0102\n",
      "test epoch 020/020  batch 0315 / 0102\n",
      "test epoch 020/020  batch 0316 / 0102\n",
      "test epoch 020/020  batch 0317 / 0102\n",
      "test epoch 020/020  batch 0318 / 0102\n",
      "test epoch 020/020  batch 0319 / 0102\n",
      "test epoch 020/020  batch 0320 / 0102\n",
      "test epoch 020/020  batch 0321 / 0102\n",
      "test epoch 020/020  batch 0322 / 0102\n",
      "test epoch 020/020  batch 0323 / 0102\n",
      "test epoch 020/020  batch 0324 / 0102\n",
      "test epoch 020/020  batch 0325 / 0102\n",
      "test epoch 020/020  batch 0326 / 0102\n",
      "test epoch 020/020  batch 0327 / 0102\n",
      "test epoch 020/020  batch 0328 / 0102\n",
      "test epoch 020/020  batch 0329 / 0102\n",
      "test epoch 020/020  batch 0330 / 0102\n",
      "test epoch 020/020  batch 0331 / 0102\n",
      "test epoch 020/020  batch 0332 / 0102\n",
      "test epoch 020/020  batch 0333 / 0102\n",
      "test epoch 020/020  batch 0334 / 0102\n",
      "test epoch 020/020  batch 0335 / 0102\n",
      "test epoch 020/020  batch 0336 / 0102\n",
      "test epoch 020/020  batch 0337 / 0102\n",
      "test epoch 020/020  batch 0338 / 0102\n",
      "test epoch 020/020  batch 0339 / 0102\n",
      "test epoch 020/020  batch 0340 / 0102\n",
      "test epoch 020/020  batch 0341 / 0102\n",
      "test epoch 020/020  batch 0342 / 0102\n",
      "test epoch 020/020  batch 0343 / 0102\n",
      "test epoch 020/020  batch 0344 / 0102\n",
      "test epoch 020/020  batch 0345 / 0102\n",
      "test epoch 020/020  batch 0346 / 0102\n",
      "test epoch 020/020  batch 0347 / 0102\n",
      "test epoch 020/020  batch 0348 / 0102\n",
      "test epoch 020/020  batch 0349 / 0102\n",
      "test epoch 020/020  batch 0350 / 0102\n",
      "test epoch 020/020  batch 0351 / 0102\n",
      "test epoch 020/020  batch 0352 / 0102\n",
      "test epoch 020/020  batch 0353 / 0102\n",
      "test epoch 020/020  batch 0354 / 0102\n",
      "test epoch 020/020  batch 0355 / 0102\n",
      "test epoch 020/020  batch 0356 / 0102\n",
      "test epoch 020/020  batch 0357 / 0102\n",
      "test epoch 020/020  batch 0358 / 0102\n",
      "test epoch 020/020  batch 0359 / 0102\n",
      "test epoch 020/020  batch 0360 / 0102\n",
      "test epoch 020/020  batch 0361 / 0102\n",
      "test epoch 020/020  batch 0362 / 0102\n",
      "test epoch 020/020  batch 0363 / 0102\n",
      "test epoch 020/020  batch 0364 / 0102\n",
      "test epoch 020/020  batch 0365 / 0102\n",
      "test epoch 020/020  batch 0366 / 0102\n",
      "test epoch 020/020  batch 0367 / 0102\n",
      "test epoch 020/020  batch 0368 / 0102\n",
      "test epoch 020/020  batch 0369 / 0102\n",
      "test epoch 020/020  batch 0370 / 0102\n",
      "test epoch 020/020  batch 0371 / 0102\n",
      "test epoch 020/020  batch 0372 / 0102\n",
      "test epoch 020/020  batch 0373 / 0102\n",
      "test epoch 020/020  batch 0374 / 0102\n",
      "test epoch 020/020  batch 0375 / 0102\n",
      "test epoch 020/020  batch 0376 / 0102\n",
      "test epoch 020/020  batch 0377 / 0102\n",
      "test epoch 020/020  batch 0378 / 0102\n",
      "test epoch 020/020  batch 0379 / 0102\n",
      "test epoch 020/020  batch 0380 / 0102\n",
      "test epoch 020/020  batch 0381 / 0102\n",
      "test epoch 020/020  batch 0382 / 0102\n",
      "test epoch 020/020  batch 0383 / 0102\n",
      "test epoch 020/020  batch 0384 / 0102\n",
      "test epoch 020/020  batch 0385 / 0102\n",
      "test epoch 020/020  batch 0386 / 0102\n",
      "test epoch 020/020  batch 0387 / 0102\n",
      "test epoch 020/020  batch 0388 / 0102\n",
      "test epoch 020/020  batch 0389 / 0102\n",
      "test epoch 020/020  batch 0390 / 0102\n",
      "test epoch 020/020  batch 0391 / 0102\n",
      "test epoch 020/020  batch 0392 / 0102\n",
      "test epoch 020/020  batch 0393 / 0102\n",
      "test epoch 020/020  batch 0394 / 0102\n",
      "test epoch 020/020  batch 0395 / 0102\n",
      "test epoch 020/020  batch 0396 / 0102\n",
      "test epoch 020/020  batch 0397 / 0102\n",
      "test epoch 020/020  batch 0398 / 0102\n",
      "test epoch 020/020  batch 0399 / 0102\n",
      "test epoch 020/020  batch 0400 / 0102\n",
      "test epoch 020/020  batch 0401 / 0102\n",
      "test epoch 020/020  batch 0402 / 0102\n",
      "test epoch 020/020  batch 0403 / 0102\n",
      "test epoch 020/020  batch 0404 / 0102\n",
      "test epoch 020/020  batch 0405 / 0102\n",
      "test epoch 020/020  batch 0406 / 0102\n",
      "test epoch 020/020  batch 0407 / 0102\n",
      "test epoch 020/020  batch 0408 / 0102\n",
      "test epoch 020/020  batch 0409 / 0102\n",
      "test epoch 020/020  batch 0410 / 0102\n",
      "test epoch 020/020  batch 0411 / 0102\n",
      "test epoch 020/020  batch 0412 / 0102\n",
      "test epoch 020/020  batch 0413 / 0102\n",
      "test epoch 020/020  batch 0414 / 0102\n",
      "test epoch 020/020  batch 0415 / 0102\n",
      "test epoch 020/020  batch 0416 / 0102\n",
      "test epoch 020/020  batch 0417 / 0102\n",
      "test epoch 020/020  batch 0418 / 0102\n",
      "test epoch 020/020  batch 0419 / 0102\n",
      "test epoch 020/020  batch 0420 / 0102\n",
      "test epoch 020/020  batch 0421 / 0102\n",
      "test epoch 020/020  batch 0422 / 0102\n",
      "test epoch 020/020  batch 0423 / 0102\n",
      "test epoch 020/020  batch 0424 / 0102\n",
      "test epoch 020/020  batch 0425 / 0102\n",
      "test epoch 020/020  batch 0426 / 0102\n",
      "test epoch 020/020  batch 0427 / 0102\n",
      "test epoch 020/020  batch 0428 / 0102\n",
      "test epoch 020/020  batch 0429 / 0102\n",
      "test epoch 020/020  batch 0430 / 0102\n",
      "test epoch 020/020  batch 0431 / 0102\n"
     ]
    },
    {
     "name": "stdout",
     "output_type": "stream",
     "text": [
      "test epoch 020/020  batch 0432 / 0102\n",
      "test epoch 020/020  batch 0433 / 0102\n",
      "test epoch 020/020  batch 0434 / 0102\n",
      "test epoch 020/020  batch 0435 / 0102\n",
      "test epoch 020/020  batch 0436 / 0102\n",
      "test epoch 020/020  batch 0437 / 0102\n",
      "test epoch 020/020  batch 0438 / 0102\n",
      "test epoch 020/020  batch 0439 / 0102\n",
      "test epoch 020/020  batch 0440 / 0102\n",
      "test epoch 020/020  batch 0441 / 0102\n",
      "test epoch 020/020  batch 0442 / 0102\n",
      "test epoch 020/020  batch 0443 / 0102\n",
      "test epoch 020/020  batch 0444 / 0102\n",
      "test epoch 020/020  batch 0445 / 0102\n",
      "test epoch 020/020  batch 0446 / 0102\n",
      "test epoch 020/020  batch 0447 / 0102\n",
      "test epoch 020/020  batch 0448 / 0102\n",
      "test epoch 020/020  batch 0449 / 0102\n",
      "test epoch 020/020  batch 0450 / 0102\n",
      "test epoch 020/020  batch 0451 / 0102\n",
      "test epoch 020/020  batch 0452 / 0102\n",
      "test epoch 020/020  batch 0453 / 0102\n",
      "test epoch 020/020  batch 0454 / 0102\n",
      "test epoch 020/020  batch 0455 / 0102\n",
      "test epoch 020/020  batch 0456 / 0102\n",
      "test epoch 020/020  batch 0457 / 0102\n",
      "test epoch 020/020  batch 0458 / 0102\n",
      "test epoch 020/020  batch 0459 / 0102\n",
      "test epoch 020/020  batch 0460 / 0102\n",
      "test epoch 020/020  batch 0461 / 0102\n",
      "test epoch 020/020  batch 0462 / 0102\n",
      "test epoch 020/020  batch 0463 / 0102\n",
      "test epoch 020/020  batch 0464 / 0102\n",
      "test epoch 020/020  batch 0465 / 0102\n",
      "test epoch 020/020  batch 0466 / 0102\n",
      "test epoch 020/020  batch 0467 / 0102\n",
      "test epoch 020/020  batch 0468 / 0102\n",
      "test epoch 020/020  batch 0469 / 0102\n",
      "test epoch 020/020  batch 0470 / 0102\n",
      "test epoch 020/020  batch 0471 / 0102\n",
      "test epoch 020/020  batch 0472 / 0102\n",
      "test epoch 020/020  batch 0473 / 0102\n",
      "test epoch 020/020  batch 0474 / 0102\n",
      "test epoch 020/020  batch 0475 / 0102\n",
      "test epoch 020/020  batch 0476 / 0102\n",
      "test epoch 020/020  batch 0477 / 0102\n",
      "test epoch 020/020  batch 0478 / 0102\n",
      "test epoch 020/020  batch 0479 / 0102\n",
      "test epoch 020/020  batch 0480 / 0102\n",
      "test epoch 020/020  batch 0481 / 0102\n",
      "test epoch 020/020  batch 0482 / 0102\n",
      "test epoch 020/020  batch 0483 / 0102\n",
      "test epoch 020/020  batch 0484 / 0102\n",
      "test epoch 020/020  batch 0485 / 0102\n",
      "test epoch 020/020  batch 0486 / 0102\n",
      "test epoch 020/020  batch 0487 / 0102\n",
      "test epoch 020/020  batch 0488 / 0102\n",
      "test epoch 020/020  batch 0489 / 0102\n",
      "test epoch 020/020  batch 0490 / 0102\n",
      "test epoch 020/020  batch 0491 / 0102\n",
      "test epoch 020/020  batch 0492 / 0102\n",
      "test epoch 020/020  batch 0493 / 0102\n",
      "test epoch 020/020  batch 0494 / 0102\n",
      "test epoch 020/020  batch 0495 / 0102\n",
      "test epoch 020/020  batch 0496 / 0102\n",
      "test epoch 020/020  batch 0497 / 0102\n",
      "test epoch 020/020  batch 0498 / 0102\n",
      "test epoch 020/020  batch 0499 / 0102\n",
      "test epoch 020/020  batch 0500 / 0102\n",
      "test epoch 020/020  batch 0501 / 0102\n",
      "test epoch 020/020  batch 0502 / 0102\n",
      "test epoch 020/020  batch 0503 / 0102\n",
      "test epoch 020/020  batch 0504 / 0102\n",
      "test epoch 020/020  batch 0505 / 0102\n",
      "test epoch 020/020  batch 0506 / 0102\n",
      "test epoch 020/020  batch 0507 / 0102\n",
      "test epoch 020/020  batch 0508 / 0102\n",
      "test epoch 020/020  batch 0509 / 0102\n",
      "test epoch 020/020  batch 0510 / 0102\n",
      "test epoch 020/020  batch 0511 / 0102\n",
      "test epoch 020/020  batch 0512 / 0102\n",
      "test epoch 020/020  batch 0513 / 0102\n",
      "test epoch 020/020  batch 0514 / 0102\n",
      "test epoch 020/020  batch 0515 / 0102\n",
      "test epoch 020/020  batch 0516 / 0102\n",
      "test epoch 020/020  batch 0517 / 0102\n",
      "test epoch 020/020  batch 0518 / 0102\n",
      "test epoch 020/020  batch 0519 / 0102\n",
      "test epoch 020/020  batch 0520 / 0102\n",
      "test epoch 020/020  batch 0521 / 0102\n",
      "test epoch 020/020  batch 0522 / 0102\n",
      "test epoch 020/020  batch 0523 / 0102\n",
      "test epoch 020/020  batch 0524 / 0102\n",
      "test epoch 020/020  batch 0525 / 0102\n",
      "test epoch 020/020  batch 0526 / 0102\n",
      "test epoch 020/020  batch 0527 / 0102\n",
      "test epoch 020/020  batch 0528 / 0102\n",
      "test epoch 020/020  batch 0529 / 0102\n",
      "test epoch 020/020  batch 0530 / 0102\n",
      "test epoch 020/020  batch 0531 / 0102\n",
      "test epoch 020/020  batch 0532 / 0102\n",
      "test epoch 020/020  batch 0533 / 0102\n",
      "test epoch 020/020  batch 0534 / 0102\n",
      "test epoch 020/020  batch 0535 / 0102\n",
      "test epoch 020/020  batch 0536 / 0102\n",
      "test epoch 020/020  batch 0537 / 0102\n",
      "test epoch 020/020  batch 0538 / 0102\n",
      "test epoch 020/020  batch 0539 / 0102\n",
      "test epoch 020/020  batch 0540 / 0102\n",
      "test epoch 020/020  batch 0541 / 0102\n",
      "test epoch 020/020  batch 0542 / 0102\n",
      "test epoch 020/020  batch 0543 / 0102\n",
      "test epoch 020/020  batch 0544 / 0102\n",
      "test epoch 020/020  batch 0545 / 0102\n",
      "test epoch 020/020  batch 0546 / 0102\n",
      "test epoch 020/020  batch 0547 / 0102\n",
      "test epoch 020/020  batch 0548 / 0102\n",
      "test epoch 020/020  batch 0549 / 0102\n",
      "test epoch 020/020  batch 0550 / 0102\n",
      "test epoch 020/020  batch 0551 / 0102\n",
      "test epoch 020/020  batch 0552 / 0102\n",
      "test epoch 020/020  batch 0553 / 0102\n",
      "test epoch 020/020  batch 0554 / 0102\n",
      "test epoch 020/020  batch 0555 / 0102\n",
      "test epoch 020/020  batch 0556 / 0102\n",
      "test epoch 020/020  batch 0557 / 0102\n",
      "test epoch 020/020  batch 0558 / 0102\n",
      "test epoch 020/020  batch 0559 / 0102\n",
      "test epoch 020/020  batch 0560 / 0102\n",
      "test epoch 020/020  batch 0561 / 0102\n",
      "test epoch 020/020  batch 0562 / 0102\n",
      "test epoch 020/020  batch 0563 / 0102\n",
      "test epoch 020/020  batch 0564 / 0102\n",
      "test epoch 020/020  batch 0565 / 0102\n",
      "test epoch 020/020  batch 0566 / 0102\n",
      "test epoch 020/020  batch 0567 / 0102\n",
      "test epoch 020/020  batch 0568 / 0102\n",
      "test epoch 020/020  batch 0569 / 0102\n",
      "test epoch 020/020  batch 0570 / 0102\n",
      "test epoch 020/020  batch 0571 / 0102\n",
      "test epoch 020/020  batch 0572 / 0102\n",
      "test epoch 020/020  batch 0573 / 0102\n",
      "test epoch 020/020  batch 0574 / 0102\n",
      "test epoch 020/020  batch 0575 / 0102\n",
      "test epoch 020/020  batch 0576 / 0102\n",
      "test epoch 020/020  batch 0577 / 0102\n",
      "test epoch 020/020  batch 0578 / 0102\n",
      "test epoch 020/020  batch 0579 / 0102\n",
      "test epoch 020/020  batch 0580 / 0102\n",
      "test epoch 020/020  batch 0581 / 0102\n",
      "test epoch 020/020  batch 0582 / 0102\n",
      "test epoch 020/020  batch 0583 / 0102\n",
      "test epoch 020/020  batch 0584 / 0102\n",
      "test epoch 020/020  batch 0585 / 0102\n",
      "test epoch 020/020  batch 0586 / 0102\n",
      "test epoch 020/020  batch 0587 / 0102\n",
      "test epoch 020/020  batch 0588 / 0102\n",
      "test epoch 020/020  batch 0589 / 0102\n",
      "test epoch 020/020  batch 0590 / 0102\n",
      "test epoch 020/020  batch 0591 / 0102\n",
      "test epoch 020/020  batch 0592 / 0102\n",
      "test epoch 020/020  batch 0593 / 0102\n",
      "test epoch 020/020  batch 0594 / 0102\n",
      "test epoch 020/020  batch 0595 / 0102\n",
      "test epoch 020/020  batch 0596 / 0102\n",
      "test epoch 020/020  batch 0597 / 0102\n",
      "test epoch 020/020  batch 0598 / 0102\n",
      "test epoch 020/020  batch 0599 / 0102\n",
      "test epoch 020/020  batch 0600 / 0102\n",
      "test epoch 020/020  batch 0601 / 0102\n",
      "test epoch 020/020  batch 0602 / 0102\n",
      "test epoch 020/020  batch 0603 / 0102\n",
      "test epoch 020/020  batch 0604 / 0102\n",
      "test epoch 020/020  batch 0605 / 0102\n",
      "test epoch 020/020  batch 0606 / 0102\n",
      "test epoch 020/020  batch 0607 / 0102\n",
      "test epoch 020/020  batch 0608 / 0102\n",
      "test epoch 020/020  batch 0609 / 0102\n",
      "test epoch 020/020  batch 0610 / 0102\n",
      "test epoch 020/020  batch 0611 / 0102\n",
      "test epoch 020/020  batch 0612 / 0102\n",
      "test epoch 020/020  batch 0613 / 0102\n",
      "test epoch 020/020  batch 0614 / 0102\n",
      "test epoch 020/020  batch 0615 / 0102\n",
      "test epoch 020/020  batch 0616 / 0102\n",
      "test epoch 020/020  batch 0617 / 0102\n",
      "test epoch 020/020  batch 0618 / 0102\n",
      "test epoch 020/020  batch 0619 / 0102\n",
      "test epoch 020/020  batch 0620 / 0102\n",
      "test epoch 020/020  batch 0621 / 0102\n",
      "test epoch 020/020  batch 0622 / 0102\n",
      "test epoch 020/020  batch 0623 / 0102\n",
      "test epoch 020/020  batch 0624 / 0102\n",
      "test epoch 020/020  batch 0625 / 0102\n",
      "test epoch 020/020  batch 0626 / 0102\n",
      "test epoch 020/020  batch 0627 / 0102\n",
      "test epoch 020/020  batch 0628 / 0102\n",
      "test epoch 020/020  batch 0629 / 0102\n",
      "test epoch 020/020  batch 0630 / 0102\n",
      "test epoch 020/020  batch 0631 / 0102\n",
      "test epoch 020/020  batch 0632 / 0102\n",
      "test epoch 020/020  batch 0633 / 0102\n",
      "test epoch 020/020  batch 0634 / 0102\n",
      "test epoch 020/020  batch 0635 / 0102\n",
      "test epoch 020/020  batch 0636 / 0102\n",
      "test epoch 020/020  batch 0637 / 0102\n",
      "test epoch 020/020  batch 0638 / 0102\n",
      "test epoch 020/020  batch 0639 / 0102\n",
      "test epoch 020/020  batch 0640 / 0102\n",
      "test epoch 020/020  batch 0641 / 0102\n",
      "test epoch 020/020  batch 0642 / 0102\n",
      "test epoch 020/020  batch 0643 / 0102\n",
      "test epoch 020/020  batch 0644 / 0102\n",
      "test epoch 020/020  batch 0645 / 0102\n",
      "test epoch 020/020  batch 0646 / 0102\n",
      "test epoch 020/020  batch 0647 / 0102\n"
     ]
    },
    {
     "name": "stdout",
     "output_type": "stream",
     "text": [
      "test epoch 020/020  batch 0648 / 0102\n",
      "test epoch 020/020  batch 0649 / 0102\n",
      "test epoch 020/020  batch 0650 / 0102\n",
      "test epoch 020/020  batch 0651 / 0102\n",
      "test epoch 020/020  batch 0652 / 0102\n",
      "test epoch 020/020  batch 0653 / 0102\n",
      "test epoch 020/020  batch 0654 / 0102\n",
      "test epoch 020/020  batch 0655 / 0102\n",
      "test epoch 020/020  batch 0656 / 0102\n",
      "test epoch 020/020  batch 0657 / 0102\n",
      "test epoch 020/020  batch 0658 / 0102\n",
      "test epoch 020/020  batch 0659 / 0102\n",
      "test epoch 020/020  batch 0660 / 0102\n",
      "test epoch 020/020  batch 0661 / 0102\n",
      "test epoch 020/020  batch 0662 / 0102\n",
      "test epoch 020/020  batch 0663 / 0102\n",
      "test epoch 020/020  batch 0664 / 0102\n",
      "test epoch 020/020  batch 0665 / 0102\n",
      "test epoch 020/020  batch 0666 / 0102\n",
      "test epoch 020/020  batch 0667 / 0102\n",
      "test epoch 020/020  batch 0668 / 0102\n",
      "test epoch 020/020  batch 0669 / 0102\n",
      "test epoch 020/020  batch 0670 / 0102\n",
      "test epoch 020/020  batch 0671 / 0102\n",
      "test epoch 020/020  batch 0672 / 0102\n",
      "test epoch 020/020  batch 0673 / 0102\n",
      "test epoch 020/020  batch 0674 / 0102\n",
      "test epoch 020/020  batch 0675 / 0102\n",
      "test epoch 020/020  batch 0676 / 0102\n",
      "test epoch 020/020  batch 0677 / 0102\n",
      "test epoch 020/020  batch 0678 / 0102\n",
      "test epoch 020/020  batch 0679 / 0102\n",
      "test epoch 020/020  batch 0680 / 0102\n",
      "test epoch 020/020  batch 0681 / 0102\n",
      "test epoch 020/020  batch 0682 / 0102\n",
      "test epoch 020/020  batch 0683 / 0102\n",
      "test epoch 020/020  batch 0684 / 0102\n",
      "test epoch 020/020  batch 0685 / 0102\n",
      "test epoch 020/020  batch 0686 / 0102\n",
      "test epoch 020/020  batch 0687 / 0102\n",
      "test epoch 020/020  batch 0688 / 0102\n",
      "test epoch 020/020  batch 0689 / 0102\n",
      "test epoch 020/020  batch 0690 / 0102\n",
      "test epoch 020/020  batch 0691 / 0102\n",
      "test epoch 020/020  batch 0692 / 0102\n",
      "test epoch 020/020  batch 0693 / 0102\n",
      "test epoch 020/020  batch 0694 / 0102\n",
      "test epoch 020/020  batch 0695 / 0102\n",
      "test epoch 020/020  batch 0696 / 0102\n",
      "test epoch 020/020  batch 0697 / 0102\n",
      "test epoch 020/020  batch 0698 / 0102\n",
      "test epoch 020/020  batch 0699 / 0102\n",
      "test epoch 020/020  batch 0700 / 0102\n",
      "test epoch 020/020  batch 0701 / 0102\n",
      "test epoch 020/020  batch 0702 / 0102\n",
      "test epoch 020/020  batch 0703 / 0102\n",
      "test epoch 020/020  batch 0704 / 0102\n",
      "test epoch 020/020  batch 0705 / 0102\n",
      "test epoch 020/020  batch 0706 / 0102\n",
      "test epoch 020/020  batch 0707 / 0102\n",
      "test epoch 020/020  batch 0708 / 0102\n",
      "test epoch 020/020  batch 0709 / 0102\n",
      "test epoch 020/020  batch 0710 / 0102\n",
      "test epoch 020/020  batch 0711 / 0102\n",
      "test epoch 020/020  batch 0712 / 0102\n",
      "test epoch 020/020  batch 0713 / 0102\n",
      "test epoch 020/020  batch 0714 / 0102\n",
      "test epoch 020/020  batch 0715 / 0102\n",
      "test epoch 020/020  batch 0716 / 0102\n",
      "test epoch 020/020  batch 0717 / 0102\n",
      "test epoch 020/020  batch 0718 / 0102\n",
      "test epoch 020/020  batch 0719 / 0102\n",
      "test epoch 020/020  batch 0720 / 0102\n",
      "test epoch 020/020  batch 0721 / 0102\n",
      "test epoch 020/020  batch 0722 / 0102\n",
      "test epoch 020/020  batch 0723 / 0102\n",
      "test epoch 020/020  batch 0724 / 0102\n",
      "test epoch 020/020  batch 0725 / 0102\n",
      "test epoch 020/020  batch 0726 / 0102\n",
      "test epoch 020/020  batch 0727 / 0102\n",
      "test epoch 020/020  batch 0728 / 0102\n",
      "test epoch 020/020  batch 0729 / 0102\n",
      "test epoch 020/020  batch 0730 / 0102\n",
      "test epoch 020/020  batch 0731 / 0102\n",
      "test epoch 020/020  batch 0732 / 0102\n",
      "test epoch 020/020  batch 0733 / 0102\n",
      "test epoch 020/020  batch 0734 / 0102\n",
      "test epoch 020/020  batch 0735 / 0102\n",
      "test epoch 020/020  batch 0736 / 0102\n",
      "test epoch 020/020  batch 0737 / 0102\n",
      "test epoch 020/020  batch 0738 / 0102\n",
      "test epoch 020/020  batch 0739 / 0102\n",
      "test epoch 020/020  batch 0740 / 0102\n",
      "test epoch 020/020  batch 0741 / 0102\n",
      "test epoch 020/020  batch 0742 / 0102\n",
      "test epoch 020/020  batch 0743 / 0102\n",
      "test epoch 020/020  batch 0744 / 0102\n",
      "test epoch 020/020  batch 0745 / 0102\n",
      "test epoch 020/020  batch 0746 / 0102\n",
      "test epoch 020/020  batch 0747 / 0102\n",
      "test epoch 020/020  batch 0748 / 0102\n",
      "test epoch 020/020  batch 0749 / 0102\n",
      "test epoch 020/020  batch 0750 / 0102\n",
      "test epoch 020/020  batch 0751 / 0102\n",
      "test epoch 020/020  batch 0752 / 0102\n",
      "test epoch 020/020  batch 0753 / 0102\n",
      "test epoch 020/020  batch 0754 / 0102\n",
      "test epoch 020/020  batch 0755 / 0102\n",
      "test epoch 020/020  batch 0756 / 0102\n",
      "test epoch 020/020  batch 0757 / 0102\n",
      "test epoch 020/020  batch 0758 / 0102\n",
      "test epoch 020/020  batch 0759 / 0102\n",
      "test epoch 020/020  batch 0760 / 0102\n",
      "test epoch 020/020  batch 0761 / 0102\n",
      "test epoch 020/020  batch 0762 / 0102\n",
      "test epoch 020/020  batch 0763 / 0102\n",
      "test epoch 020/020  batch 0764 / 0102\n",
      "test epoch 020/020  batch 0765 / 0102\n",
      "test epoch 020/020  batch 0766 / 0102\n",
      "test epoch 020/020  batch 0767 / 0102\n",
      "test epoch 020/020  batch 0768 / 0102\n",
      "test epoch 020/020  batch 0769 / 0102\n",
      "test epoch 020/020  batch 0770 / 0102\n",
      "test epoch 020/020  batch 0771 / 0102\n",
      "test epoch 020/020  batch 0772 / 0102\n",
      "test epoch 020/020  batch 0773 / 0102\n",
      "test epoch 020/020  batch 0774 / 0102\n",
      "test epoch 020/020  batch 0775 / 0102\n"
     ]
    }
   ],
   "source": [
    "for id_b,batch in enumerate(train_dl):\n",
    "                    inp_.append(batch['src'])\n",
    "                    gt.append(batch['trg'][:,:,0:2])\n",
    "                    frames.append(batch['frames'])\n",
    "                    peds.append(batch['peds'])\n",
    "                    dt.append(batch['dataset'])\n",
    "\n",
    "                    inp = (batch['src'][:, 1:, 2:4].to(device) - mean) / std\n",
    "                    src_att = torch.ones((inp.shape[0], 1, inp.shape[1])).to(device)\n",
    "                    start_of_seq = torch.Tensor([0, 0, 1]).unsqueeze(0).unsqueeze(1).repeat(inp.shape[0], 1, 1).to(\n",
    "                        device)\n",
    "                    dec_inp=start_of_seq\n",
    "\n",
    "                    for i in range(12):\n",
    "                        trg_att = subsequent_mask(dec_inp.shape[1]).repeat(dec_inp.shape[0], 1, 1).to(device)\n",
    "                        out = model(inp, dec_inp, src_att, trg_att)\n",
    "                        dec_inp=torch.cat((dec_inp,out[:,-1:,:]),1)\n",
    "\n",
    "\n",
    "                    preds_tr_b=(dec_inp[:,1:,0:2].detach().numpy()*std+mean).cumsum(1)+batch['src'][:,-1:,0:2].cpu().numpy()\n",
    "                    pr.append(preds_tr_b)\n",
    "                    print(\"test epoch %03i/%03i  batch %04i / %04i\" % (\n",
    "                    20, 20, id_b, len(test_dl)))"
   ]
  },
  {
   "cell_type": "code",
   "execution_count": 33,
   "id": "e271b16a",
   "metadata": {},
   "outputs": [],
   "source": [
    "peds = np.concatenate(peds, 0)\n",
    "frames = np.concatenate(frames, 0)\n",
    "dt = np.concatenate(dt, 0)\n",
    "gt = np.concatenate(gt, 0)\n",
    "dt_names = test_dataset.data['dataset_name']\n",
    "pr = np.concatenate(pr, 0)"
   ]
  },
  {
   "cell_type": "code",
   "execution_count": 34,
   "id": "ee7b5be8",
   "metadata": {},
   "outputs": [
    {
     "name": "stdout",
     "output_type": "stream",
     "text": [
      "The mean FDE is  141.35947344130105\n"
     ]
    }
   ],
   "source": [
    "ssum = 0\n",
    "for i in range(pr.shape[0]):\n",
    "    ssum += math.dist(pr[i][-1], gt[i][-1])\n",
    "mean_fde = ssum / (i+1)\n",
    "print(\"The mean FDE is \",mean_fde)"
   ]
  },
  {
   "cell_type": "code",
   "execution_count": 35,
   "id": "26266db0",
   "metadata": {},
   "outputs": [
    {
     "name": "stdout",
     "output_type": "stream",
     "text": [
      "The mean ADE is  77.68529818770193\n"
     ]
    }
   ],
   "source": [
    "ssum = 0\n",
    "for i in range(pr.shape[0]):\n",
    "    local_sum = 0\n",
    "    for j in range(pr[i].shape[0]):\n",
    "        local_sum += math.dist(pr[i][j], gt[i][j])\n",
    "    ssum += local_sum / (j+1)\n",
    "mean_ade = ssum / (i+1)\n",
    "print(\"The mean ADE is \",mean_ade)"
   ]
  },
  {
   "cell_type": "code",
   "execution_count": null,
   "id": "450b6f67",
   "metadata": {},
   "outputs": [],
   "source": []
  },
  {
   "cell_type": "code",
   "execution_count": null,
   "id": "5c1019df",
   "metadata": {},
   "outputs": [],
   "source": []
  },
  {
   "cell_type": "code",
   "execution_count": null,
   "id": "f19e8f05",
   "metadata": {},
   "outputs": [],
   "source": []
  },
  {
   "cell_type": "code",
   "execution_count": null,
   "id": "89197f52",
   "metadata": {},
   "outputs": [],
   "source": []
  },
  {
   "cell_type": "code",
   "execution_count": null,
   "id": "e6da8b4c",
   "metadata": {},
   "outputs": [],
   "source": []
  },
  {
   "cell_type": "code",
   "execution_count": null,
   "id": "a8b8f77c",
   "metadata": {},
   "outputs": [],
   "source": []
  },
  {
   "cell_type": "code",
   "execution_count": null,
   "id": "cb24bbdf",
   "metadata": {},
   "outputs": [],
   "source": []
  },
  {
   "cell_type": "markdown",
   "id": "fdf13def",
   "metadata": {},
   "source": [
    "# Lana's Merged Data"
   ]
  },
  {
   "cell_type": "markdown",
   "id": "437c6dda",
   "metadata": {},
   "source": [
    "## Test Sample 1 - Using Polynomial Regression for trajectory correction\n",
    "### Trajectory prediction using transformers\n",
    "### Trajectory correction using polynomial regression"
   ]
  },
  {
   "cell_type": "code",
   "execution_count": 56,
   "id": "4443d2b8",
   "metadata": {},
   "outputs": [],
   "source": [
    "pedestrian_id = 161\n",
    "idx = np.where(peds == pedestrian_id)[0][0]\n",
    "frame_start = frames[idx]\n",
    "full_sample = test_data[test_data['person'].isin([pedestrian_id])]\n",
    "test_sample = test_data[test_data['frame'].isin(frame_start) & test_data['person'].isin([pedestrian_id])]\n",
    "frame_idx = test_sample['frame'].iloc[0]\n",
    "full_sample = full_sample[full_sample['frame'] >= frame_idx]"
   ]
  },
  {
   "cell_type": "code",
   "execution_count": 57,
   "id": "8b941e62",
   "metadata": {},
   "outputs": [
    {
     "data": {
      "text/plain": [
       "frame     1613.000000\n",
       "person     161.000000\n",
       "x          743.393642\n",
       "y          329.060740\n",
       "Name: 1611, dtype: float64"
      ]
     },
     "execution_count": 57,
     "metadata": {},
     "output_type": "execute_result"
    }
   ],
   "source": [
    "full_sample.iloc[19]"
   ]
  },
  {
   "cell_type": "code",
   "execution_count": 58,
   "id": "250d9609",
   "metadata": {},
   "outputs": [
    {
     "data": {
      "image/png": "[encoded data removed]",
      "text/plain": [
       "<Figure size 288x288 with 1 Axes>"
      ]
     },
     "metadata": {
      "needs_background": "light"
     },
     "output_type": "display_data"
    }
   ],
   "source": [
    "plt.plot(locations[:,:,0], locations[:,:,1], ls=\"None\", marker=\".\",color='black')\n",
    "plt.scatter(pr[idx][:,0], pr[idx][:,1], color='blue', label ='prediction')\n",
    "plt.scatter(gt[idx][:,0], gt[idx][:,1], color='red', label ='groud-truth')\n",
    "plt.scatter(test_sample['x'][:8], test_sample['y'][:8], color='green', label ='input')\n",
    "plt.legend()\n",
    "plt.show()"
   ]
  },
  {
   "cell_type": "code",
   "execution_count": 307,
   "id": "abe2683b",
   "metadata": {},
   "outputs": [],
   "source": [
    "loc_21timestep = full_sample.iloc[20][['x', 'y']].to_numpy()\n",
    "x = np.append(test_sample['x'][:8], loc_21timestep[0])\n",
    "y = np.append(test_sample['y'][:8], loc_21timestep[1])\n",
    "# x = x[:, np.newaxis]\n",
    "# y = y[:, np.newaxis]"
   ]
  },
  {
   "cell_type": "code",
   "execution_count": 308,
   "id": "3401000a",
   "metadata": {},
   "outputs": [],
   "source": [
    "myline = np.linspace(int(min(x) - 20), int(max(x) + 20), 20)\n",
    "mymodel = np.poly1d(np.polyfit(x, y, 2))"
   ]
  },
  {
   "cell_type": "code",
   "execution_count": 309,
   "id": "efbedff8",
   "metadata": {},
   "outputs": [
    {
     "data": {
      "image/png": "[encoded data removed]",
      "text/plain": [
       "<Figure size 720x504 with 1 Axes>"
      ]
     },
     "metadata": {
      "needs_background": "light"
     },
     "output_type": "display_data"
    }
   ],
   "source": [
    "plt.plot(locations[:,:,0], locations[:,:,1], ls=\"None\", marker=\".\",color='black')\n",
    "plt.scatter(x, y, color='green')\n",
    "plt.scatter(pr[idx][:,0], pr[idx][:,1], color='blue', label ='prediction')\n",
    "plt.scatter(gt[idx][:,0], gt[idx][:,1], color='red', label ='groud-truth')\n",
    "plt.plot(myline, mymodel(myline), color='m')\n",
    "plt.show()"
   ]
  },
  {
   "cell_type": "code",
   "execution_count": 310,
   "id": "e2842268",
   "metadata": {},
   "outputs": [],
   "source": [
    "predicted_line = [[i, j] for i, j in zip(myline, mymodel(myline))]"
   ]
  },
  {
   "cell_type": "code",
   "execution_count": 311,
   "id": "f3dcdddd",
   "metadata": {},
   "outputs": [
    {
     "data": {
      "text/plain": [
       "[[25.0, 656.2900640174731],\n",
       " [57.21052631578947, 660.7025798203094],\n",
       " [89.42105263157895, 665.2249477043546],\n",
       " [121.63157894736841, 669.8571676696085],\n",
       " [153.8421052631579, 674.5992397160712],\n",
       " [186.05263157894737, 679.4511638437427],\n",
       " [218.26315789473682, 684.4129400526231],\n",
       " [250.4736842105263, 689.4845683427122],\n",
       " [282.6842105263158, 694.6660487140101],\n",
       " [314.89473684210526, 699.9573811665168],\n",
       " [347.10526315789474, 705.3585657002324],\n",
       " [379.3157894736842, 710.8696023151566],\n",
       " [411.52631578947364, 716.4904910112897],\n",
       " [443.7368421052631, 722.2212317886316],\n",
       " [475.9473684210526, 728.0618246471823],\n",
       " [508.1578947368421, 734.0122695869418],\n",
       " [540.3684210526316, 740.0725666079101],\n",
       " [572.578947368421, 746.2427157100872],\n",
       " [604.7894736842105, 752.522716893473],\n",
       " [637.0, 758.9125701580676]]"
      ]
     },
     "execution_count": 311,
     "metadata": {},
     "output_type": "execute_result"
    }
   ],
   "source": [
    "predicted_line"
   ]
  },
  {
   "cell_type": "code",
   "execution_count": 312,
   "id": "5d70e7e5",
   "metadata": {},
   "outputs": [],
   "source": [
    "shifted_path = np.copy(pr[idx])\n",
    "# for i in range(pr[idx].shape[0]):\n",
    "#     short_x = 0\n",
    "#     short_y = 0\n",
    "#     shortest_distance = 1000\n",
    "#     for j in range(len(predicted_line)):\n",
    "#         if shortest_distance > math.dist(pr[idx][i], predicted_line[j]):\n",
    "#             shortest_distance = math.dist(pr[idx][i], predicted_line[j])\n",
    "#             short_x = predicted_line[j][0]\n",
    "#             short_y = predicted_line[j][1]\n",
    "#     print(\"Short distance: \", shortest_distance)\n",
    "#     print(\"Short x: \", short_x)\n",
    "#     print(\"Short y: \", short_y)\n",
    "#     shifted_path[i] = np.array([abs(short_x+pr[idx][i][0])/2, abs(short_y+pr[idx][i][1])/2]).reshape(2)\n",
    "for i in range(2):\n",
    "        for j in range(8,20):\n",
    "            shifted_path[j-8] = np.array([(shifted_path[j-8][0] + predicted_line[j][0])/2, (shifted_path[j-8][1] + predicted_line[j][1])/2])"
   ]
  },
  {
   "cell_type": "code",
   "execution_count": 313,
   "id": "789707bb",
   "metadata": {},
   "outputs": [],
   "source": [
    "# shifted_path = np.array([[i, j] for i, j in zip(pr[idx][:,0].reshape(12,1), model.predict(polynomial_features.fit_transform(pr[idx][:,0].reshape(12, 1))))])"
   ]
  },
  {
   "cell_type": "code",
   "execution_count": 314,
   "id": "00f40940",
   "metadata": {},
   "outputs": [
    {
     "data": {
      "text/plain": [
       "array([[282.25345, 693.8918 ],\n",
       "       [313.00323, 698.16016],\n",
       "       [343.96613, 702.59064],\n",
       "       [374.9898 , 707.1585 ],\n",
       "       [406.0117 , 711.8331 ],\n",
       "       [437.01688, 716.599  ],\n",
       "       [468.0057 , 721.45184],\n",
       "       [498.98154, 726.38965],\n",
       "       [529.9472 , 731.4081 ],\n",
       "       [560.9046 , 736.502  ],\n",
       "       [591.8547 , 741.66864],\n",
       "       [622.7982 , 746.91003]], dtype=float32)"
      ]
     },
     "execution_count": 314,
     "metadata": {},
     "output_type": "execute_result"
    }
   ],
   "source": [
    "shifted_path"
   ]
  },
  {
   "cell_type": "code",
   "execution_count": 315,
   "id": "49b4413e",
   "metadata": {},
   "outputs": [
    {
     "data": {
      "image/png": "[encoded data removed]",
      "text/plain": [
       "<Figure size 720x504 with 1 Axes>"
      ]
     },
     "metadata": {
      "needs_background": "light"
     },
     "output_type": "display_data"
    }
   ],
   "source": [
    "#plt.plot(locations[:,:,0], locations[:,:,1], ls=\"None\", marker=\".\",color='black')\n",
    "plt.scatter(x, y, color='green')\n",
    "plt.scatter(pr[idx][:,0], pr[idx][:,1], color='blue', label ='prediction')\n",
    "plt.scatter(gt[idx][:,0], gt[idx][:,1], color='red', label ='groud-truth')\n",
    "plt.scatter(shifted_path[:,0], shifted_path[:,1], color='yellow', label ='shifted-trajectory')\n",
    "plt.plot(myline, mymodel(myline))\n",
    "plt.legend()\n",
    "plt.show()"
   ]
  },
  {
   "cell_type": "code",
   "execution_count": 316,
   "id": "edb0a37b",
   "metadata": {},
   "outputs": [
    {
     "data": {
      "image/png": "[encoded data removed]",
      "text/plain": [
       "<Figure size 720x504 with 1 Axes>"
      ]
     },
     "metadata": {
      "needs_background": "light"
     },
     "output_type": "display_data"
    }
   ],
   "source": [
    "plt.plot(locations[:,:,0], locations[:,:,1], ls=\"None\", marker=\".\",color='black')\n",
    "plt.scatter(pr[idx][:,0], pr[idx][:,1], color='blue', label ='prediction')\n",
    "plt.scatter(gt[idx][:,0], gt[idx][:,1], color='red', label ='groud-truth')\n",
    "plt.scatter(shifted_path[:,0], shifted_path[:,1], color='yellow', label ='shifted-trajectory')\n",
    "plt.scatter(test_sample['x'][:8], test_sample['y'][:8], color='green', label ='input')\n",
    "plt.legend()\n",
    "plt.show()"
   ]
  },
  {
   "cell_type": "markdown",
   "id": "c1ba92f9",
   "metadata": {},
   "source": [
    "## Test for 4 past and 4 future"
   ]
  },
  {
   "cell_type": "code",
   "execution_count": 67,
   "id": "4c7c3b09",
   "metadata": {},
   "outputs": [],
   "source": [
    "det_49 = scipy.io.loadmat(f'output/Individual/merged_data_train_4x4/det_49.mat')"
   ]
  },
  {
   "cell_type": "code",
   "execution_count": 86,
   "id": "477a6b02",
   "metadata": {},
   "outputs": [],
   "source": [
    "gt = det_49['gt']\n",
    "pr = det_49['pr']\n",
    "peds = det_49['peds']\n",
    "frames = det_49['frames']"
   ]
  },
  {
   "cell_type": "code",
   "execution_count": 69,
   "id": "5f76348b",
   "metadata": {},
   "outputs": [
    {
     "data": {
      "text/plain": [
       "array([[ 66.31596 , 320.05048 ],\n",
       "       [ 71.04121 , 330.0676  ],\n",
       "       [ 75.358475, 370.472   ],\n",
       "       [ 74.61401 , 377.07358 ]], dtype=float32)"
      ]
     },
     "execution_count": 69,
     "metadata": {},
     "output_type": "execute_result"
    }
   ],
   "source": [
    "gt[0]\n"
   ]
  },
  {
   "cell_type": "code",
   "execution_count": 70,
   "id": "1368f408",
   "metadata": {},
   "outputs": [
    {
     "data": {
      "text/plain": [
       "array([[ 68.661606, 281.23428 ],\n",
       "       [ 67.784676, 282.22144 ],\n",
       "       [ 67.23668 , 282.20822 ],\n",
       "       [ 66.84748 , 281.9455  ]], dtype=float32)"
      ]
     },
     "execution_count": 70,
     "metadata": {},
     "output_type": "execute_result"
    }
   ],
   "source": [
    "pr[0]"
   ]
  },
  {
   "cell_type": "code",
   "execution_count": 72,
   "id": "854af0bb",
   "metadata": {},
   "outputs": [
    {
     "data": {
      "text/plain": [
       "<matplotlib.collections.PathCollection at 0x1ef84b94250>"
      ]
     },
     "execution_count": 72,
     "metadata": {},
     "output_type": "execute_result"
    },
    {
     "data": {
      "image/png": "[encoded data removed]",
      "text/plain": [
       "<Figure size 288x288 with 1 Axes>"
      ]
     },
     "metadata": {
      "needs_background": "light"
     },
     "output_type": "display_data"
    }
   ],
   "source": [
    "    idx = 2\n",
    "    plt.plot(locations[:,:,0], locations[:,:,1], ls=\"None\", marker=\".\",color='black')\n",
    "    plt.scatter(pr[idx][:,0], pr[idx][:,1], color='blue', label ='prediction')\n",
    "    plt.scatter(gt[idx][:,0], gt[idx][:,1], color='red', label ='groud-truth')"
   ]
  },
  {
   "cell_type": "code",
   "execution_count": 33,
   "id": "8c6eea58",
   "metadata": {},
   "outputs": [
    {
     "name": "stderr",
     "output_type": "stream",
     "text": [
      "No artists with labels found to put in legend.  Note that artists whose label start with an underscore are ignored when legend() is called with no argument.\n"
     ]
    },
    {
     "data": {
      "image/png": "[encoded data removed]",
      "text/plain": [
       "<Figure size 720x504 with 1 Axes>"
      ]
     },
     "metadata": {
      "needs_background": "light"
     },
     "output_type": "display_data"
    }
   ],
   "source": [
    "plt.plot(locations[:,:,0], locations[:,:,1], ls=\"None\", marker=\".\",color='black')\n",
    "for i in range(600,700):\n",
    "    plt.scatter(pr[i][:,0], pr[i][:,1], color='blue')\n",
    "    plt.scatter(gt[i][:,0], gt[i][:,1], color='red')\n",
    "plt.legend()\n",
    "plt.show()   "
   ]
  },
  {
   "cell_type": "code",
   "execution_count": 34,
   "id": "599c6d4a",
   "metadata": {},
   "outputs": [
    {
     "name": "stdout",
     "output_type": "stream",
     "text": [
      "The mean FDE is  57.82056008631463\n"
     ]
    }
   ],
   "source": [
    "ssum = 0\n",
    "for i in range(pr.shape[0]):\n",
    "    ssum += math.dist(pr[i][-1], gt[i][-1])\n",
    "mean_fde = ssum / (i+1)\n",
    "print(\"The mean FDE is \",mean_fde)"
   ]
  },
  {
   "cell_type": "code",
   "execution_count": 35,
   "id": "1e3fe476",
   "metadata": {},
   "outputs": [
    {
     "name": "stdout",
     "output_type": "stream",
     "text": [
      "The mean ADE is  36.54902937743179\n"
     ]
    }
   ],
   "source": [
    "ssum = 0\n",
    "for i in range(pr.shape[0]):\n",
    "    local_sum = 0\n",
    "    for j in range(pr[i].shape[0]):\n",
    "        local_sum += math.dist(pr[i][j], gt[i][j])\n",
    "    ssum += local_sum / (j+1)\n",
    "mean_ade = ssum / (i+1)\n",
    "print(\"The mean ADE is \",mean_ade)"
   ]
  },
  {
   "cell_type": "code",
   "execution_count": 172,
   "id": "1d7efd01",
   "metadata": {},
   "outputs": [],
   "source": [
    "pedestrian_id = 172\n",
    "idx = np.where(peds == pedestrian_id)[1][0]\n",
    "frame_start = frames[idx]\n",
    "full_sample = test_data[test_data['person'].isin([pedestrian_id])]\n",
    "test_sample = test_data[test_data['frame'].isin(frame_start) & test_data['person'].isin([pedestrian_id])]\n",
    "frame_idx = test_sample['frame'].iloc[0]\n",
    "full_sample = full_sample[full_sample['frame'] >= frame_idx]"
   ]
  },
  {
   "cell_type": "code",
   "execution_count": 173,
   "id": "e7a9743e",
   "metadata": {},
   "outputs": [
    {
     "data": {
      "image/png": "[encoded data removed]",
      "text/plain": [
       "<Figure size 288x288 with 1 Axes>"
      ]
     },
     "metadata": {
      "needs_background": "light"
     },
     "output_type": "display_data"
    }
   ],
   "source": [
    "plt.plot(locations[:,:,0], locations[:,:,1], ls=\"None\", marker=\".\",color='black')\n",
    "plt.scatter(pr[idx][:,0], pr[idx][:,1], color='blue', label ='prediction')\n",
    "plt.scatter(gt[idx][:,0], gt[idx][:,1], color='red', label ='groud-truth')\n",
    "plt.scatter(test_sample['x'][:4], test_sample['y'][:4], color='green', label ='input')\n",
    "plt.legend()\n",
    "plt.show()"
   ]
  },
  {
   "cell_type": "code",
   "execution_count": 131,
   "id": "78ceb163",
   "metadata": {},
   "outputs": [
    {
     "data": {
      "text/plain": [
       "array([[  2.,   3.,   3.,   3.,   6.,   6.,   6.,   6.,   9.,   9.,   9.,\n",
       "          9.,   9.,   9.,   9.,   9.,  12.,  14.,  14.,  15.,  15.,  15.,\n",
       "         15.,  15.,  19.,  19.,  19.,  20.,  22.,  22.,  24.,  25.,  25.,\n",
       "         25.,  25.,  25.,  25.,  25.,  25.,  25.,  25.,  25.,  25.,  26.,\n",
       "         26.,  26.,  26.,  26.,  26.,  26.,  26.,  26.,  26.,  26.,  26.,\n",
       "         26.,  26.,  26.,  26.,  26.,  26.,  26.,  26.,  26.,  26.,  26.,\n",
       "         26.,  26.,  26.,  26.,  26.,  26.,  26.,  27.,  28.,  28.,  28.,\n",
       "         29.,  29.,  29.,  29.,  29.,  29.,  30.,  30.,  30.,  31.,  31.,\n",
       "         31.,  31.,  33.,  33.,  33.,  33.,  33.,  33.,  33.,  33.,  36.,\n",
       "         36.,  36.,  37.,  38.,  38.,  39.,  39.,  39.,  39.,  39.,  39.,\n",
       "         39.,  39.,  39.,  39.,  39.,  39.,  39.,  40.,  40.,  40.,  40.,\n",
       "         42.,  42.,  42.,  42.,  42.,  42.,  43.,  44.,  46.,  47.,  48.,\n",
       "         48.,  48.,  50.,  50.,  52.,  52.,  52.,  52.,  52.,  55.,  55.,\n",
       "         57.,  60.,  60.,  60.,  60.,  60.,  60.,  60.,  60.,  61.,  62.,\n",
       "         63.,  63.,  63.,  63.,  63.,  63.,  63.,  63.,  63.,  63.,  63.,\n",
       "         63.,  63.,  63.,  63.,  63.,  63.,  64.,  64.,  64.,  64.,  64.,\n",
       "         64.,  67.,  70.,  72.,  75.,  77.,  77.,  77.,  77.,  77.,  77.,\n",
       "         77.,  79.,  79.,  79.,  79.,  79.,  79.,  79.,  79.,  79.,  79.,\n",
       "         79.,  79.,  79.,  79.,  79.,  79.,  79.,  79.,  79.,  79.,  79.,\n",
       "         80.,  80.,  80.,  80.,  80.,  80.,  80.,  80.,  80.,  80.,  80.,\n",
       "         80.,  80.,  80.,  80.,  80.,  80.,  80.,  80.,  80.,  80.,  81.,\n",
       "         82.,  82.,  84.,  84.,  87.,  90.,  90.,  90.,  90.,  91.,  91.,\n",
       "         91.,  91.,  91.,  93.,  95.,  95.,  95.,  95.,  95.,  95.,  95.,\n",
       "         95.,  95.,  95.,  96.,  96.,  96.,  96.,  96.,  96.,  96.,  96.,\n",
       "         96.,  99.,  99., 101., 103., 103., 103., 103., 103., 103., 103.,\n",
       "        103., 104., 104., 104., 106., 106., 106., 106., 106., 106., 106.,\n",
       "        106., 106., 106., 106., 106., 106., 106., 106., 110., 113., 114.,\n",
       "        114., 114., 114., 114., 114., 116., 116., 116., 117., 117., 117.,\n",
       "        117., 117., 117., 117., 117., 117., 117., 117., 117., 117., 117.,\n",
       "        117., 119., 119., 119., 119., 119., 119., 122., 122., 122., 122.,\n",
       "        122., 122., 122., 123., 123., 124., 124., 124., 124., 124., 124.,\n",
       "        124., 124., 124., 124., 124., 124., 124., 124., 124., 125., 126.,\n",
       "        126., 126., 126., 126., 126., 126., 127., 127., 127., 127., 127.,\n",
       "        127., 128., 128., 129., 129., 129., 129., 129., 130., 130., 130.,\n",
       "        130., 130., 130., 130., 130., 130., 130., 130., 130., 130., 130.,\n",
       "        132., 132., 132., 132., 132., 133., 133., 133., 133., 133., 133.,\n",
       "        133., 133., 133., 133., 133., 133., 135., 135., 140., 140., 140.,\n",
       "        140., 140., 142., 142., 142., 143., 143., 143., 143., 146., 146.,\n",
       "        146., 146., 146., 147., 147., 149., 149., 149., 149., 149., 150.,\n",
       "        150., 150., 151., 151., 151., 151., 151., 151., 153., 153., 153.,\n",
       "        153., 153., 154., 154., 154., 154., 154., 154., 154., 154., 154.,\n",
       "        154., 154., 154., 154., 154., 154., 154., 154., 154., 154., 154.,\n",
       "        154., 154., 155., 155., 155., 156., 156., 157., 157., 157., 157.,\n",
       "        157., 157., 157., 157., 157., 157., 157., 158., 158., 158., 158.,\n",
       "        158., 158., 158., 158., 158., 158., 158., 158., 158., 159., 159.,\n",
       "        159., 160., 160., 160., 160., 160., 160., 160., 160., 160., 160.,\n",
       "        160., 160., 160., 160., 160., 161., 161., 161., 161., 161., 161.,\n",
       "        161., 161., 161., 161., 161., 161., 161., 161., 161., 161., 161.,\n",
       "        161., 161., 161., 162., 162., 162., 162., 162., 162., 162., 162.,\n",
       "        162., 162., 162., 162., 162., 162., 162., 163., 163., 163., 164.,\n",
       "        164., 164., 164., 164., 166., 167., 167., 167., 167., 167., 168.,\n",
       "        168., 168., 168., 168., 168., 168., 168., 168., 168., 169., 169.,\n",
       "        169., 169., 169., 169., 169., 169., 169., 169., 169., 169., 169.,\n",
       "        169., 169., 169., 169., 170., 170., 170., 170., 170., 170., 170.,\n",
       "        170., 170., 170., 170., 170., 170., 170., 170., 170., 170., 170.,\n",
       "        170., 170., 170., 170., 170., 170., 170., 170., 170., 170., 170.,\n",
       "        170., 170., 170., 170., 170., 170., 170., 170., 170., 170., 170.,\n",
       "        170., 170., 170., 171., 171., 172., 172., 172., 174., 175., 176.,\n",
       "        176., 176., 176., 176., 176., 176., 176., 176., 176., 176., 176.,\n",
       "        176., 176., 176., 176., 176., 176., 176., 176., 176., 176., 176.,\n",
       "        176., 176., 176., 176., 176., 176., 176., 176., 176., 176., 176.,\n",
       "        176., 176., 176., 176., 176., 176., 176., 176., 176., 176., 176.,\n",
       "        176., 176., 176., 176., 176., 176., 176., 176., 176., 176., 176.,\n",
       "        176., 176., 176., 176., 176., 176., 176., 176., 176., 176., 176.,\n",
       "        176., 176., 176., 176., 176., 176., 176., 176., 176., 176., 176.,\n",
       "        176., 176., 176., 176., 176., 177., 177., 177., 177., 177., 177.,\n",
       "        177., 177., 177., 177., 177., 177., 178., 178., 178., 179., 179.,\n",
       "        179., 179., 179., 179., 179., 179., 179., 179., 179., 179., 179.,\n",
       "        179., 179., 179., 179., 179., 179., 179., 179., 179., 179., 179.,\n",
       "        179., 179., 179., 179., 179., 179., 179., 179., 179., 179., 179.,\n",
       "        180., 183., 183., 183., 183., 183., 183., 183., 184., 184., 184.,\n",
       "        184., 184., 184., 184., 184., 184., 184., 184., 184., 184., 184.,\n",
       "        184., 184., 184., 184., 184., 185., 185., 185., 185., 185., 185.,\n",
       "        185., 185., 186., 186., 186., 186., 186., 186., 187., 188., 188.,\n",
       "        190., 190., 192., 192., 192., 193., 193., 193., 193., 193., 193.,\n",
       "        193., 193., 193., 193., 193., 193., 193., 193., 193., 193., 193.,\n",
       "        193., 193., 193., 194., 195., 195., 195., 195., 195., 195., 195.,\n",
       "        195., 195., 195., 195., 195., 196., 196., 196., 196., 196., 197.,\n",
       "        197., 197., 197., 197., 199., 200., 200., 500., 500., 500., 500.,\n",
       "        500., 500., 500., 500., 500., 500., 500., 500., 500.]],\n",
       "      dtype=float32)"
      ]
     },
     "execution_count": 131,
     "metadata": {},
     "output_type": "execute_result"
    }
   ],
   "source": [
    "peds"
   ]
  }
 ],
 "metadata": {
  "kernelspec": {
   "display_name": "Python 3",
   "language": "python",
   "name": "python3"
  },
  "language_info": {
   "codemirror_mode": {
    "name": "ipython",
    "version": 3
   },
   "file_extension": ".py",
   "mimetype": "text/x-python",
   "name": "python",
   "nbconvert_exporter": "python",
   "pygments_lexer": "ipython3",
   "version": "3.9.12"
  }
 },
 "nbformat": 4,
 "nbformat_minor": 5
}
